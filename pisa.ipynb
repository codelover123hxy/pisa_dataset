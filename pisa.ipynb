{
 "cells": [
  {
   "cell_type": "code",
   "execution_count": 20,
   "id": "initial_id",
   "metadata": {
    "collapsed": true,
    "ExecuteTime": {
     "end_time": "2024-03-13T08:31:34.507283700Z",
     "start_time": "2024-03-13T08:30:12.514153800Z"
    }
   },
   "outputs": [
    {
     "name": "stdout",
     "output_type": "stream",
     "text": [
      "        CNT  CNTRYID    CNTSCHID    CNTSTUID   CYC  NatCen STRATUM SUBNATIO  \\\n",
      "0       ALB      8.0    800282.0    800001.0  08MS  000800   ALB03  0080000   \n",
      "1       ALB      8.0    800115.0    800002.0  08MS  000800   ALB03  0080000   \n",
      "2       ALB      8.0    800242.0    800003.0  08MS  000800   ALB01  0080000   \n",
      "3       ALB      8.0    800245.0    800005.0  08MS  000800   ALB08  0080000   \n",
      "4       ALB      8.0    800285.0    800006.0  08MS  000800   ALB03  0080000   \n",
      "...     ...      ...         ...         ...   ...     ...     ...      ...   \n",
      "613739  UZB    860.0  86000120.0  86007488.0  08MS  086000   UZB26  8600000   \n",
      "613740  UZB    860.0  86000140.0  86007489.0  08MS  086000   UZB04  8600000   \n",
      "613741  UZB    860.0  86000024.0  86007490.0  08MS  086000   UZB10  8600000   \n",
      "613742  UZB    860.0  86000174.0  86007491.0  08MS  086000   UZB16  8600000   \n",
      "613743  UZB    860.0  86000123.0  86007492.0  08MS  086000   UZB10  8600000   \n",
      "\n",
      "         REGION  OECD  ...  PV4MPRE  PV5MPRE  PV6MPRE  PV7MPRE  PV8MPRE  \\\n",
      "0         800.0   0.0  ...  203.029  219.817  331.017  223.752  305.671   \n",
      "1         800.0   0.0  ...  321.405  320.452  284.836  364.565  304.044   \n",
      "2         800.0   0.0  ...  376.019  285.901  289.896  338.469  316.296   \n",
      "3         800.0   0.0  ...  303.422  327.793  165.575  246.156  238.322   \n",
      "4         800.0   0.0  ...  514.739  539.850  461.793  514.465  510.462   \n",
      "...         ...   ...  ...      ...      ...      ...      ...      ...   \n",
      "613739  86000.0   0.0  ...  306.551  271.135  386.969  376.271  368.287   \n",
      "613740  86000.0   0.0  ...  335.952  232.583  179.328  233.470  203.001   \n",
      "613741  86000.0   0.0  ...  451.614  432.586  387.329  456.236  424.790   \n",
      "613742  86000.0   0.0  ...  272.346  317.838  248.165  405.860  364.173   \n",
      "613743  86000.0   0.0  ...  416.631  337.422  370.817  395.176  412.317   \n",
      "\n",
      "        PV9MPRE  PV10MPRE    SENWT             VER_DAT  test  \n",
      "0       230.156   289.436  0.55561    03MAY23:10:11:25   NaN  \n",
      "1       347.626   352.269  0.76431    03MAY23:10:11:25   NaN  \n",
      "2       324.361   343.351  1.37877    03MAY23:10:11:25   NaN  \n",
      "3       275.860   227.466  1.49361    03MAY23:10:11:26   NaN  \n",
      "4       490.537   503.793  0.65249    03MAY23:10:11:26   NaN  \n",
      "...         ...       ...      ...                 ...   ...  \n",
      "613739  395.329   278.263  0.71987    02MAY23:13:18:15   NaN  \n",
      "613740  254.340   233.187  0.65541    02MAY23:13:18:13   NaN  \n",
      "613741  408.986   460.542  0.67910    02MAY23:13:18:13   NaN  \n",
      "613742  346.663   341.668  0.68618    02MAY23:13:18:14   NaN  \n",
      "613743  390.490   439.211  0.67910    02MAY23:13:18:13   NaN  \n",
      "\n",
      "[613744 rows x 1279 columns]\n"
     ]
    }
   ],
   "source": [
    "import pandas as pd\n",
    "import pyreadstat\n",
    "\n",
    "# 读取.sav文件\n",
    "df, meta = pyreadstat.read_sav('CY08MSP_STU_QQQ.sav')\n",
    "\n",
    "# 将数据存储到DataFrame中\n",
    "dataframe = pd.DataFrame(df)\n",
    "# HKG MAC TAP\n",
    "# 打印DataFrame\n",
    "print(dataframe)"
   ]
  },
  {
   "cell_type": "code",
   "outputs": [
    {
     "data": {
      "text/plain": "        CNT  CNTRYID  CNTSCHID  CNTSTUID   CYC  NatCen STRATUM  SUBNATIO  \\\n111155  TAP      158  15800121  15800002  08MS   15800   TAP02   1580000   \n111156  TAP      158  15800067  15800003  08MS   15800   TAP10   1580000   \n111157  TAP      158  15800045  15800004  08MS   15800   TAP13   1580000   \n111158  TAP      158  15800216  15800005  08MS   15800   TAP08   1580000   \n111159  TAP      158  15800028  15800007  08MS   15800   TAP13   1580000   \n...     ...      ...       ...       ...   ...     ...     ...       ...   \n117007  TAP      158  15800142  15808407  08MS   15800   TAP08   1580000   \n117008  TAP      158  15800190  15808408  08MS   15800   TAP07   1580000   \n117009  TAP      158  15800038  15808411  08MS   15800   TAP02   1580000   \n117010  TAP      158  15800091  15808412  08MS   15800   TAP14   1580000   \n117011  TAP      158  15800083  15808413  08MS   15800   TAP16   1580000   \n\n        REGION  OECD  ...    PVREAD    PVSCIE    PVMCCR    PVMCQN    PVMCSS  \\\n111155   15800     0  ...  546.3877  532.9300  567.4887  582.4041  555.0647   \n111156   15800     0  ...  560.4321  506.2942  536.8495  578.2138  576.7185   \n111157   15800     0  ...  650.7925  646.2069  678.8159  733.7847  720.6881   \n111158   15800     0  ...  453.1688  367.5244  378.9017  407.0545  474.6111   \n111159   15800     0  ...  551.8421  509.8032  580.6639  596.6756  585.2936   \n...        ...   ...  ...       ...       ...       ...       ...       ...   \n117007   15800     0  ...  576.5285  594.7836    602.26  592.2986  578.6207   \n117008   15800     0  ...  532.5477  475.6030  525.1763  534.6003  564.8438   \n117009   15800     0  ...  541.1986  589.8292  539.5075  577.3314  584.8321   \n117010   15800     0  ...  512.8787  586.2202  526.6018   569.377  571.2576   \n117011   15800     0  ...  559.7079  570.6131  626.2401  539.2027  563.6279   \n\n          PVMCUD    PVMPEM    PVMPFS    PVMPIN    PVMPRE  \n111155  556.9153  556.9614  555.5655  571.3713  614.5495  \n111156  555.7239  621.5013  551.9805  589.7321  569.0942  \n111157  703.0225  745.3378   699.362  707.6447  723.1284  \n111158  418.6725  399.5022  397.9351  405.7414  438.2599  \n111159  583.2789  571.0235  566.2138  595.1984  553.8403  \n...          ...       ...       ...       ...       ...  \n117007  609.3909  611.6502  607.4982  578.3984  567.6166  \n117008   544.344   501.102  520.5181  514.6167  528.9199  \n117009  556.0226  602.0464  578.3022  575.5695  553.3003  \n117010  571.6544  557.7442  491.6458  587.0444  557.1557  \n117011  596.4192  546.0893  618.5003   592.585  591.7506  \n\n[5857 rows x 1290 columns]",
      "text/html": "<div>\n<style scoped>\n    .dataframe tbody tr th:only-of-type {\n        vertical-align: middle;\n    }\n\n    .dataframe tbody tr th {\n        vertical-align: top;\n    }\n\n    .dataframe thead th {\n        text-align: right;\n    }\n</style>\n<table border=\"1\" class=\"dataframe\">\n  <thead>\n    <tr style=\"text-align: right;\">\n      <th></th>\n      <th>CNT</th>\n      <th>CNTRYID</th>\n      <th>CNTSCHID</th>\n      <th>CNTSTUID</th>\n      <th>CYC</th>\n      <th>NatCen</th>\n      <th>STRATUM</th>\n      <th>SUBNATIO</th>\n      <th>REGION</th>\n      <th>OECD</th>\n      <th>...</th>\n      <th>PVREAD</th>\n      <th>PVSCIE</th>\n      <th>PVMCCR</th>\n      <th>PVMCQN</th>\n      <th>PVMCSS</th>\n      <th>PVMCUD</th>\n      <th>PVMPEM</th>\n      <th>PVMPFS</th>\n      <th>PVMPIN</th>\n      <th>PVMPRE</th>\n    </tr>\n  </thead>\n  <tbody>\n    <tr>\n      <th>111155</th>\n      <td>TAP</td>\n      <td>158</td>\n      <td>15800121</td>\n      <td>15800002</td>\n      <td>08MS</td>\n      <td>15800</td>\n      <td>TAP02</td>\n      <td>1580000</td>\n      <td>15800</td>\n      <td>0</td>\n      <td>...</td>\n      <td>546.3877</td>\n      <td>532.9300</td>\n      <td>567.4887</td>\n      <td>582.4041</td>\n      <td>555.0647</td>\n      <td>556.9153</td>\n      <td>556.9614</td>\n      <td>555.5655</td>\n      <td>571.3713</td>\n      <td>614.5495</td>\n    </tr>\n    <tr>\n      <th>111156</th>\n      <td>TAP</td>\n      <td>158</td>\n      <td>15800067</td>\n      <td>15800003</td>\n      <td>08MS</td>\n      <td>15800</td>\n      <td>TAP10</td>\n      <td>1580000</td>\n      <td>15800</td>\n      <td>0</td>\n      <td>...</td>\n      <td>560.4321</td>\n      <td>506.2942</td>\n      <td>536.8495</td>\n      <td>578.2138</td>\n      <td>576.7185</td>\n      <td>555.7239</td>\n      <td>621.5013</td>\n      <td>551.9805</td>\n      <td>589.7321</td>\n      <td>569.0942</td>\n    </tr>\n    <tr>\n      <th>111157</th>\n      <td>TAP</td>\n      <td>158</td>\n      <td>15800045</td>\n      <td>15800004</td>\n      <td>08MS</td>\n      <td>15800</td>\n      <td>TAP13</td>\n      <td>1580000</td>\n      <td>15800</td>\n      <td>0</td>\n      <td>...</td>\n      <td>650.7925</td>\n      <td>646.2069</td>\n      <td>678.8159</td>\n      <td>733.7847</td>\n      <td>720.6881</td>\n      <td>703.0225</td>\n      <td>745.3378</td>\n      <td>699.362</td>\n      <td>707.6447</td>\n      <td>723.1284</td>\n    </tr>\n    <tr>\n      <th>111158</th>\n      <td>TAP</td>\n      <td>158</td>\n      <td>15800216</td>\n      <td>15800005</td>\n      <td>08MS</td>\n      <td>15800</td>\n      <td>TAP08</td>\n      <td>1580000</td>\n      <td>15800</td>\n      <td>0</td>\n      <td>...</td>\n      <td>453.1688</td>\n      <td>367.5244</td>\n      <td>378.9017</td>\n      <td>407.0545</td>\n      <td>474.6111</td>\n      <td>418.6725</td>\n      <td>399.5022</td>\n      <td>397.9351</td>\n      <td>405.7414</td>\n      <td>438.2599</td>\n    </tr>\n    <tr>\n      <th>111159</th>\n      <td>TAP</td>\n      <td>158</td>\n      <td>15800028</td>\n      <td>15800007</td>\n      <td>08MS</td>\n      <td>15800</td>\n      <td>TAP13</td>\n      <td>1580000</td>\n      <td>15800</td>\n      <td>0</td>\n      <td>...</td>\n      <td>551.8421</td>\n      <td>509.8032</td>\n      <td>580.6639</td>\n      <td>596.6756</td>\n      <td>585.2936</td>\n      <td>583.2789</td>\n      <td>571.0235</td>\n      <td>566.2138</td>\n      <td>595.1984</td>\n      <td>553.8403</td>\n    </tr>\n    <tr>\n      <th>...</th>\n      <td>...</td>\n      <td>...</td>\n      <td>...</td>\n      <td>...</td>\n      <td>...</td>\n      <td>...</td>\n      <td>...</td>\n      <td>...</td>\n      <td>...</td>\n      <td>...</td>\n      <td>...</td>\n      <td>...</td>\n      <td>...</td>\n      <td>...</td>\n      <td>...</td>\n      <td>...</td>\n      <td>...</td>\n      <td>...</td>\n      <td>...</td>\n      <td>...</td>\n      <td>...</td>\n    </tr>\n    <tr>\n      <th>117007</th>\n      <td>TAP</td>\n      <td>158</td>\n      <td>15800142</td>\n      <td>15808407</td>\n      <td>08MS</td>\n      <td>15800</td>\n      <td>TAP08</td>\n      <td>1580000</td>\n      <td>15800</td>\n      <td>0</td>\n      <td>...</td>\n      <td>576.5285</td>\n      <td>594.7836</td>\n      <td>602.26</td>\n      <td>592.2986</td>\n      <td>578.6207</td>\n      <td>609.3909</td>\n      <td>611.6502</td>\n      <td>607.4982</td>\n      <td>578.3984</td>\n      <td>567.6166</td>\n    </tr>\n    <tr>\n      <th>117008</th>\n      <td>TAP</td>\n      <td>158</td>\n      <td>15800190</td>\n      <td>15808408</td>\n      <td>08MS</td>\n      <td>15800</td>\n      <td>TAP07</td>\n      <td>1580000</td>\n      <td>15800</td>\n      <td>0</td>\n      <td>...</td>\n      <td>532.5477</td>\n      <td>475.6030</td>\n      <td>525.1763</td>\n      <td>534.6003</td>\n      <td>564.8438</td>\n      <td>544.344</td>\n      <td>501.102</td>\n      <td>520.5181</td>\n      <td>514.6167</td>\n      <td>528.9199</td>\n    </tr>\n    <tr>\n      <th>117009</th>\n      <td>TAP</td>\n      <td>158</td>\n      <td>15800038</td>\n      <td>15808411</td>\n      <td>08MS</td>\n      <td>15800</td>\n      <td>TAP02</td>\n      <td>1580000</td>\n      <td>15800</td>\n      <td>0</td>\n      <td>...</td>\n      <td>541.1986</td>\n      <td>589.8292</td>\n      <td>539.5075</td>\n      <td>577.3314</td>\n      <td>584.8321</td>\n      <td>556.0226</td>\n      <td>602.0464</td>\n      <td>578.3022</td>\n      <td>575.5695</td>\n      <td>553.3003</td>\n    </tr>\n    <tr>\n      <th>117010</th>\n      <td>TAP</td>\n      <td>158</td>\n      <td>15800091</td>\n      <td>15808412</td>\n      <td>08MS</td>\n      <td>15800</td>\n      <td>TAP14</td>\n      <td>1580000</td>\n      <td>15800</td>\n      <td>0</td>\n      <td>...</td>\n      <td>512.8787</td>\n      <td>586.2202</td>\n      <td>526.6018</td>\n      <td>569.377</td>\n      <td>571.2576</td>\n      <td>571.6544</td>\n      <td>557.7442</td>\n      <td>491.6458</td>\n      <td>587.0444</td>\n      <td>557.1557</td>\n    </tr>\n    <tr>\n      <th>117011</th>\n      <td>TAP</td>\n      <td>158</td>\n      <td>15800083</td>\n      <td>15808413</td>\n      <td>08MS</td>\n      <td>15800</td>\n      <td>TAP16</td>\n      <td>1580000</td>\n      <td>15800</td>\n      <td>0</td>\n      <td>...</td>\n      <td>559.7079</td>\n      <td>570.6131</td>\n      <td>626.2401</td>\n      <td>539.2027</td>\n      <td>563.6279</td>\n      <td>596.4192</td>\n      <td>546.0893</td>\n      <td>618.5003</td>\n      <td>592.585</td>\n      <td>591.7506</td>\n    </tr>\n  </tbody>\n</table>\n<p>5857 rows × 1290 columns</p>\n</div>"
     },
     "execution_count": 118,
     "metadata": {},
     "output_type": "execute_result"
    }
   ],
   "source": [
    "dataframe = dataframe[(dataframe['CNT'] == 'HKG') | (dataframe['CNT'] == 'MAC') | (dataframe['CNT'] == 'TAP')]\n",
    "dataframe"
   ],
   "metadata": {
    "collapsed": false,
    "ExecuteTime": {
     "end_time": "2024-03-13T17:05:07.896066800Z",
     "start_time": "2024-03-13T17:05:07.833344800Z"
    }
   },
   "id": "5e2b3c7c64d3a2b6",
   "execution_count": 118
  },
  {
   "cell_type": "code",
   "outputs": [
    {
     "data": {
      "text/plain": "        PV1MATH  PV2MATH  PV3MATH  PV4MATH  PV5MATH  PV6MATH  PV7MATH  \\\n0       179.583  201.334  222.248  194.943  222.755  213.100  221.021   \n1       308.247  304.444  316.129  234.353  323.448  303.435  333.178   \n2       267.514  343.743  327.157  290.771  316.227  309.451  323.337   \n3       272.649  300.642  226.409  316.835  288.861  321.268  312.063   \n4       435.473  491.174  478.365  454.352  491.031  504.919  468.401   \n...         ...      ...      ...      ...      ...      ...      ...   \n613739  300.530  329.387  359.595  314.353  322.403  333.284  311.266   \n613740  265.080  257.582  327.787  311.439  267.167  323.318  273.206   \n613741  420.221  399.911  420.742  432.866  392.747  397.174  421.565   \n613742  343.129  355.853  296.233  335.538  372.287  315.866  335.566   \n613743  350.056  419.903  393.147  429.775  364.818  417.647  348.383   \n\n        PV8MATH  PV9MATH  PV10MATH  ...  PV1MPRE  PV2MPRE  PV3MPRE  PV4MPRE  \\\n0       293.710  226.912   254.745  ...  225.788  244.719  226.250  203.029   \n1       288.888  343.157   329.659  ...  413.449  288.674  298.644  321.405   \n2       307.508  356.244   295.401  ...  365.307  360.488  383.340  376.019   \n3       334.765  283.916   329.915  ...  279.983  208.518  264.532  303.422   \n4       463.913  470.627   499.257  ...  455.587  427.004  399.300  514.739   \n...         ...      ...       ...  ...      ...      ...      ...      ...   \n613739  342.431  348.710   308.192  ...  328.863  402.768  334.153  306.551   \n613740  268.522  296.958   273.324  ...  258.670  233.278  272.456  335.952   \n613741  407.357  407.601   418.482  ...  422.531  396.354  395.368  451.614   \n613742  405.146  313.752   307.822  ...  275.261  324.934  339.529  272.346   \n613743  404.625  357.951   418.439  ...  368.679  416.772  384.307  416.631   \n\n        PV5MPRE  PV6MPRE  PV7MPRE  PV8MPRE  PV9MPRE  PV10MPRE  \n0       219.817  331.017  223.752  305.671  230.156   289.436  \n1       320.452  284.836  364.565  304.044  347.626   352.269  \n2       285.901  289.896  338.469  316.296  324.361   343.351  \n3       327.793  165.575  246.156  238.322  275.860   227.466  \n4       539.850  461.793  514.465  510.462  490.537   503.793  \n...         ...      ...      ...      ...      ...       ...  \n613739  271.135  386.969  376.271  368.287  395.329   278.263  \n613740  232.583  179.328  233.470  203.001  254.340   233.187  \n613741  432.586  387.329  456.236  424.790  408.986   460.542  \n613742  317.838  248.165  405.860  364.173  346.663   341.668  \n613743  337.422  370.817  395.176  412.317  390.490   439.211  \n\n[613744 rows x 110 columns]",
      "text/html": "<div>\n<style scoped>\n    .dataframe tbody tr th:only-of-type {\n        vertical-align: middle;\n    }\n\n    .dataframe tbody tr th {\n        vertical-align: top;\n    }\n\n    .dataframe thead th {\n        text-align: right;\n    }\n</style>\n<table border=\"1\" class=\"dataframe\">\n  <thead>\n    <tr style=\"text-align: right;\">\n      <th></th>\n      <th>PV1MATH</th>\n      <th>PV2MATH</th>\n      <th>PV3MATH</th>\n      <th>PV4MATH</th>\n      <th>PV5MATH</th>\n      <th>PV6MATH</th>\n      <th>PV7MATH</th>\n      <th>PV8MATH</th>\n      <th>PV9MATH</th>\n      <th>PV10MATH</th>\n      <th>...</th>\n      <th>PV1MPRE</th>\n      <th>PV2MPRE</th>\n      <th>PV3MPRE</th>\n      <th>PV4MPRE</th>\n      <th>PV5MPRE</th>\n      <th>PV6MPRE</th>\n      <th>PV7MPRE</th>\n      <th>PV8MPRE</th>\n      <th>PV9MPRE</th>\n      <th>PV10MPRE</th>\n    </tr>\n  </thead>\n  <tbody>\n    <tr>\n      <th>0</th>\n      <td>179.583</td>\n      <td>201.334</td>\n      <td>222.248</td>\n      <td>194.943</td>\n      <td>222.755</td>\n      <td>213.100</td>\n      <td>221.021</td>\n      <td>293.710</td>\n      <td>226.912</td>\n      <td>254.745</td>\n      <td>...</td>\n      <td>225.788</td>\n      <td>244.719</td>\n      <td>226.250</td>\n      <td>203.029</td>\n      <td>219.817</td>\n      <td>331.017</td>\n      <td>223.752</td>\n      <td>305.671</td>\n      <td>230.156</td>\n      <td>289.436</td>\n    </tr>\n    <tr>\n      <th>1</th>\n      <td>308.247</td>\n      <td>304.444</td>\n      <td>316.129</td>\n      <td>234.353</td>\n      <td>323.448</td>\n      <td>303.435</td>\n      <td>333.178</td>\n      <td>288.888</td>\n      <td>343.157</td>\n      <td>329.659</td>\n      <td>...</td>\n      <td>413.449</td>\n      <td>288.674</td>\n      <td>298.644</td>\n      <td>321.405</td>\n      <td>320.452</td>\n      <td>284.836</td>\n      <td>364.565</td>\n      <td>304.044</td>\n      <td>347.626</td>\n      <td>352.269</td>\n    </tr>\n    <tr>\n      <th>2</th>\n      <td>267.514</td>\n      <td>343.743</td>\n      <td>327.157</td>\n      <td>290.771</td>\n      <td>316.227</td>\n      <td>309.451</td>\n      <td>323.337</td>\n      <td>307.508</td>\n      <td>356.244</td>\n      <td>295.401</td>\n      <td>...</td>\n      <td>365.307</td>\n      <td>360.488</td>\n      <td>383.340</td>\n      <td>376.019</td>\n      <td>285.901</td>\n      <td>289.896</td>\n      <td>338.469</td>\n      <td>316.296</td>\n      <td>324.361</td>\n      <td>343.351</td>\n    </tr>\n    <tr>\n      <th>3</th>\n      <td>272.649</td>\n      <td>300.642</td>\n      <td>226.409</td>\n      <td>316.835</td>\n      <td>288.861</td>\n      <td>321.268</td>\n      <td>312.063</td>\n      <td>334.765</td>\n      <td>283.916</td>\n      <td>329.915</td>\n      <td>...</td>\n      <td>279.983</td>\n      <td>208.518</td>\n      <td>264.532</td>\n      <td>303.422</td>\n      <td>327.793</td>\n      <td>165.575</td>\n      <td>246.156</td>\n      <td>238.322</td>\n      <td>275.860</td>\n      <td>227.466</td>\n    </tr>\n    <tr>\n      <th>4</th>\n      <td>435.473</td>\n      <td>491.174</td>\n      <td>478.365</td>\n      <td>454.352</td>\n      <td>491.031</td>\n      <td>504.919</td>\n      <td>468.401</td>\n      <td>463.913</td>\n      <td>470.627</td>\n      <td>499.257</td>\n      <td>...</td>\n      <td>455.587</td>\n      <td>427.004</td>\n      <td>399.300</td>\n      <td>514.739</td>\n      <td>539.850</td>\n      <td>461.793</td>\n      <td>514.465</td>\n      <td>510.462</td>\n      <td>490.537</td>\n      <td>503.793</td>\n    </tr>\n    <tr>\n      <th>...</th>\n      <td>...</td>\n      <td>...</td>\n      <td>...</td>\n      <td>...</td>\n      <td>...</td>\n      <td>...</td>\n      <td>...</td>\n      <td>...</td>\n      <td>...</td>\n      <td>...</td>\n      <td>...</td>\n      <td>...</td>\n      <td>...</td>\n      <td>...</td>\n      <td>...</td>\n      <td>...</td>\n      <td>...</td>\n      <td>...</td>\n      <td>...</td>\n      <td>...</td>\n      <td>...</td>\n    </tr>\n    <tr>\n      <th>613739</th>\n      <td>300.530</td>\n      <td>329.387</td>\n      <td>359.595</td>\n      <td>314.353</td>\n      <td>322.403</td>\n      <td>333.284</td>\n      <td>311.266</td>\n      <td>342.431</td>\n      <td>348.710</td>\n      <td>308.192</td>\n      <td>...</td>\n      <td>328.863</td>\n      <td>402.768</td>\n      <td>334.153</td>\n      <td>306.551</td>\n      <td>271.135</td>\n      <td>386.969</td>\n      <td>376.271</td>\n      <td>368.287</td>\n      <td>395.329</td>\n      <td>278.263</td>\n    </tr>\n    <tr>\n      <th>613740</th>\n      <td>265.080</td>\n      <td>257.582</td>\n      <td>327.787</td>\n      <td>311.439</td>\n      <td>267.167</td>\n      <td>323.318</td>\n      <td>273.206</td>\n      <td>268.522</td>\n      <td>296.958</td>\n      <td>273.324</td>\n      <td>...</td>\n      <td>258.670</td>\n      <td>233.278</td>\n      <td>272.456</td>\n      <td>335.952</td>\n      <td>232.583</td>\n      <td>179.328</td>\n      <td>233.470</td>\n      <td>203.001</td>\n      <td>254.340</td>\n      <td>233.187</td>\n    </tr>\n    <tr>\n      <th>613741</th>\n      <td>420.221</td>\n      <td>399.911</td>\n      <td>420.742</td>\n      <td>432.866</td>\n      <td>392.747</td>\n      <td>397.174</td>\n      <td>421.565</td>\n      <td>407.357</td>\n      <td>407.601</td>\n      <td>418.482</td>\n      <td>...</td>\n      <td>422.531</td>\n      <td>396.354</td>\n      <td>395.368</td>\n      <td>451.614</td>\n      <td>432.586</td>\n      <td>387.329</td>\n      <td>456.236</td>\n      <td>424.790</td>\n      <td>408.986</td>\n      <td>460.542</td>\n    </tr>\n    <tr>\n      <th>613742</th>\n      <td>343.129</td>\n      <td>355.853</td>\n      <td>296.233</td>\n      <td>335.538</td>\n      <td>372.287</td>\n      <td>315.866</td>\n      <td>335.566</td>\n      <td>405.146</td>\n      <td>313.752</td>\n      <td>307.822</td>\n      <td>...</td>\n      <td>275.261</td>\n      <td>324.934</td>\n      <td>339.529</td>\n      <td>272.346</td>\n      <td>317.838</td>\n      <td>248.165</td>\n      <td>405.860</td>\n      <td>364.173</td>\n      <td>346.663</td>\n      <td>341.668</td>\n    </tr>\n    <tr>\n      <th>613743</th>\n      <td>350.056</td>\n      <td>419.903</td>\n      <td>393.147</td>\n      <td>429.775</td>\n      <td>364.818</td>\n      <td>417.647</td>\n      <td>348.383</td>\n      <td>404.625</td>\n      <td>357.951</td>\n      <td>418.439</td>\n      <td>...</td>\n      <td>368.679</td>\n      <td>416.772</td>\n      <td>384.307</td>\n      <td>416.631</td>\n      <td>337.422</td>\n      <td>370.817</td>\n      <td>395.176</td>\n      <td>412.317</td>\n      <td>390.490</td>\n      <td>439.211</td>\n    </tr>\n  </tbody>\n</table>\n<p>613744 rows × 110 columns</p>\n</div>"
     },
     "execution_count": 109,
     "metadata": {},
     "output_type": "execute_result"
    }
   ],
   "source": [
    "# 指定要筛选的两列名\n",
    "start_column = 'PV1MATH'\n",
    "end_column = 'PV10MPRE'\n",
    "# 使用loc方法筛选两列之间的数据\n",
    "filtered_df = df.loc[:, start_column:end_column]\n",
    "filtered_df "
   ],
   "metadata": {
    "collapsed": false,
    "ExecuteTime": {
     "end_time": "2024-03-13T15:16:33.549837600Z",
     "start_time": "2024-03-13T15:16:33.392787100Z"
    }
   },
   "id": "22d0f26d9ef886fb",
   "execution_count": 109
  },
  {
   "cell_type": "code",
   "outputs": [],
   "source": [
    "# 变成11个列\n",
    "# 找中位数 变成0 1 变量 MATH\n",
    "# 其他的1234 "
   ],
   "metadata": {
    "collapsed": false
   },
   "id": "fe6a463401e0d1b5"
  },
  {
   "cell_type": "code",
   "outputs": [
    {
     "data": {
      "text/plain": "        PV1MATH  PV2MATH  PV3MATH  PV4MATH  PV5MATH  PV6MATH  PV7MATH  \\\n0       179.583  201.334  222.248  194.943  222.755  213.100  221.021   \n1       308.247  304.444  316.129  234.353  323.448  303.435  333.178   \n2       267.514  343.743  327.157  290.771  316.227  309.451  323.337   \n3       272.649  300.642  226.409  316.835  288.861  321.268  312.063   \n4       435.473  491.174  478.365  454.352  491.031  504.919  468.401   \n...         ...      ...      ...      ...      ...      ...      ...   \n613739  300.530  329.387  359.595  314.353  322.403  333.284  311.266   \n613740  265.080  257.582  327.787  311.439  267.167  323.318  273.206   \n613741  420.221  399.911  420.742  432.866  392.747  397.174  421.565   \n613742  343.129  355.853  296.233  335.538  372.287  315.866  335.566   \n613743  350.056  419.903  393.147  429.775  364.818  417.647  348.383   \n\n        PV8MATH  PV9MATH  PV10MATH  ...  PV1MPRE  PV2MPRE  PV3MPRE  PV4MPRE  \\\n0       293.710  226.912   254.745  ...  225.788  244.719  226.250  203.029   \n1       288.888  343.157   329.659  ...  413.449  288.674  298.644  321.405   \n2       307.508  356.244   295.401  ...  365.307  360.488  383.340  376.019   \n3       334.765  283.916   329.915  ...  279.983  208.518  264.532  303.422   \n4       463.913  470.627   499.257  ...  455.587  427.004  399.300  514.739   \n...         ...      ...       ...  ...      ...      ...      ...      ...   \n613739  342.431  348.710   308.192  ...  328.863  402.768  334.153  306.551   \n613740  268.522  296.958   273.324  ...  258.670  233.278  272.456  335.952   \n613741  407.357  407.601   418.482  ...  422.531  396.354  395.368  451.614   \n613742  405.146  313.752   307.822  ...  275.261  324.934  339.529  272.346   \n613743  404.625  357.951   418.439  ...  368.679  416.772  384.307  416.631   \n\n        PV5MPRE  PV6MPRE  PV7MPRE  PV8MPRE  PV9MPRE  PV10MPRE  \n0       219.817  331.017  223.752  305.671  230.156   289.436  \n1       320.452  284.836  364.565  304.044  347.626   352.269  \n2       285.901  289.896  338.469  316.296  324.361   343.351  \n3       327.793  165.575  246.156  238.322  275.860   227.466  \n4       539.850  461.793  514.465  510.462  490.537   503.793  \n...         ...      ...      ...      ...      ...       ...  \n613739  271.135  386.969  376.271  368.287  395.329   278.263  \n613740  232.583  179.328  233.470  203.001  254.340   233.187  \n613741  432.586  387.329  456.236  424.790  408.986   460.542  \n613742  317.838  248.165  405.860  364.173  346.663   341.668  \n613743  337.422  370.817  395.176  412.317  390.490   439.211  \n\n[613744 rows x 110 columns]",
      "text/html": "<div>\n<style scoped>\n    .dataframe tbody tr th:only-of-type {\n        vertical-align: middle;\n    }\n\n    .dataframe tbody tr th {\n        vertical-align: top;\n    }\n\n    .dataframe thead th {\n        text-align: right;\n    }\n</style>\n<table border=\"1\" class=\"dataframe\">\n  <thead>\n    <tr style=\"text-align: right;\">\n      <th></th>\n      <th>PV1MATH</th>\n      <th>PV2MATH</th>\n      <th>PV3MATH</th>\n      <th>PV4MATH</th>\n      <th>PV5MATH</th>\n      <th>PV6MATH</th>\n      <th>PV7MATH</th>\n      <th>PV8MATH</th>\n      <th>PV9MATH</th>\n      <th>PV10MATH</th>\n      <th>...</th>\n      <th>PV1MPRE</th>\n      <th>PV2MPRE</th>\n      <th>PV3MPRE</th>\n      <th>PV4MPRE</th>\n      <th>PV5MPRE</th>\n      <th>PV6MPRE</th>\n      <th>PV7MPRE</th>\n      <th>PV8MPRE</th>\n      <th>PV9MPRE</th>\n      <th>PV10MPRE</th>\n    </tr>\n  </thead>\n  <tbody>\n    <tr>\n      <th>0</th>\n      <td>179.583</td>\n      <td>201.334</td>\n      <td>222.248</td>\n      <td>194.943</td>\n      <td>222.755</td>\n      <td>213.100</td>\n      <td>221.021</td>\n      <td>293.710</td>\n      <td>226.912</td>\n      <td>254.745</td>\n      <td>...</td>\n      <td>225.788</td>\n      <td>244.719</td>\n      <td>226.250</td>\n      <td>203.029</td>\n      <td>219.817</td>\n      <td>331.017</td>\n      <td>223.752</td>\n      <td>305.671</td>\n      <td>230.156</td>\n      <td>289.436</td>\n    </tr>\n    <tr>\n      <th>1</th>\n      <td>308.247</td>\n      <td>304.444</td>\n      <td>316.129</td>\n      <td>234.353</td>\n      <td>323.448</td>\n      <td>303.435</td>\n      <td>333.178</td>\n      <td>288.888</td>\n      <td>343.157</td>\n      <td>329.659</td>\n      <td>...</td>\n      <td>413.449</td>\n      <td>288.674</td>\n      <td>298.644</td>\n      <td>321.405</td>\n      <td>320.452</td>\n      <td>284.836</td>\n      <td>364.565</td>\n      <td>304.044</td>\n      <td>347.626</td>\n      <td>352.269</td>\n    </tr>\n    <tr>\n      <th>2</th>\n      <td>267.514</td>\n      <td>343.743</td>\n      <td>327.157</td>\n      <td>290.771</td>\n      <td>316.227</td>\n      <td>309.451</td>\n      <td>323.337</td>\n      <td>307.508</td>\n      <td>356.244</td>\n      <td>295.401</td>\n      <td>...</td>\n      <td>365.307</td>\n      <td>360.488</td>\n      <td>383.340</td>\n      <td>376.019</td>\n      <td>285.901</td>\n      <td>289.896</td>\n      <td>338.469</td>\n      <td>316.296</td>\n      <td>324.361</td>\n      <td>343.351</td>\n    </tr>\n    <tr>\n      <th>3</th>\n      <td>272.649</td>\n      <td>300.642</td>\n      <td>226.409</td>\n      <td>316.835</td>\n      <td>288.861</td>\n      <td>321.268</td>\n      <td>312.063</td>\n      <td>334.765</td>\n      <td>283.916</td>\n      <td>329.915</td>\n      <td>...</td>\n      <td>279.983</td>\n      <td>208.518</td>\n      <td>264.532</td>\n      <td>303.422</td>\n      <td>327.793</td>\n      <td>165.575</td>\n      <td>246.156</td>\n      <td>238.322</td>\n      <td>275.860</td>\n      <td>227.466</td>\n    </tr>\n    <tr>\n      <th>4</th>\n      <td>435.473</td>\n      <td>491.174</td>\n      <td>478.365</td>\n      <td>454.352</td>\n      <td>491.031</td>\n      <td>504.919</td>\n      <td>468.401</td>\n      <td>463.913</td>\n      <td>470.627</td>\n      <td>499.257</td>\n      <td>...</td>\n      <td>455.587</td>\n      <td>427.004</td>\n      <td>399.300</td>\n      <td>514.739</td>\n      <td>539.850</td>\n      <td>461.793</td>\n      <td>514.465</td>\n      <td>510.462</td>\n      <td>490.537</td>\n      <td>503.793</td>\n    </tr>\n    <tr>\n      <th>...</th>\n      <td>...</td>\n      <td>...</td>\n      <td>...</td>\n      <td>...</td>\n      <td>...</td>\n      <td>...</td>\n      <td>...</td>\n      <td>...</td>\n      <td>...</td>\n      <td>...</td>\n      <td>...</td>\n      <td>...</td>\n      <td>...</td>\n      <td>...</td>\n      <td>...</td>\n      <td>...</td>\n      <td>...</td>\n      <td>...</td>\n      <td>...</td>\n      <td>...</td>\n      <td>...</td>\n    </tr>\n    <tr>\n      <th>613739</th>\n      <td>300.530</td>\n      <td>329.387</td>\n      <td>359.595</td>\n      <td>314.353</td>\n      <td>322.403</td>\n      <td>333.284</td>\n      <td>311.266</td>\n      <td>342.431</td>\n      <td>348.710</td>\n      <td>308.192</td>\n      <td>...</td>\n      <td>328.863</td>\n      <td>402.768</td>\n      <td>334.153</td>\n      <td>306.551</td>\n      <td>271.135</td>\n      <td>386.969</td>\n      <td>376.271</td>\n      <td>368.287</td>\n      <td>395.329</td>\n      <td>278.263</td>\n    </tr>\n    <tr>\n      <th>613740</th>\n      <td>265.080</td>\n      <td>257.582</td>\n      <td>327.787</td>\n      <td>311.439</td>\n      <td>267.167</td>\n      <td>323.318</td>\n      <td>273.206</td>\n      <td>268.522</td>\n      <td>296.958</td>\n      <td>273.324</td>\n      <td>...</td>\n      <td>258.670</td>\n      <td>233.278</td>\n      <td>272.456</td>\n      <td>335.952</td>\n      <td>232.583</td>\n      <td>179.328</td>\n      <td>233.470</td>\n      <td>203.001</td>\n      <td>254.340</td>\n      <td>233.187</td>\n    </tr>\n    <tr>\n      <th>613741</th>\n      <td>420.221</td>\n      <td>399.911</td>\n      <td>420.742</td>\n      <td>432.866</td>\n      <td>392.747</td>\n      <td>397.174</td>\n      <td>421.565</td>\n      <td>407.357</td>\n      <td>407.601</td>\n      <td>418.482</td>\n      <td>...</td>\n      <td>422.531</td>\n      <td>396.354</td>\n      <td>395.368</td>\n      <td>451.614</td>\n      <td>432.586</td>\n      <td>387.329</td>\n      <td>456.236</td>\n      <td>424.790</td>\n      <td>408.986</td>\n      <td>460.542</td>\n    </tr>\n    <tr>\n      <th>613742</th>\n      <td>343.129</td>\n      <td>355.853</td>\n      <td>296.233</td>\n      <td>335.538</td>\n      <td>372.287</td>\n      <td>315.866</td>\n      <td>335.566</td>\n      <td>405.146</td>\n      <td>313.752</td>\n      <td>307.822</td>\n      <td>...</td>\n      <td>275.261</td>\n      <td>324.934</td>\n      <td>339.529</td>\n      <td>272.346</td>\n      <td>317.838</td>\n      <td>248.165</td>\n      <td>405.860</td>\n      <td>364.173</td>\n      <td>346.663</td>\n      <td>341.668</td>\n    </tr>\n    <tr>\n      <th>613743</th>\n      <td>350.056</td>\n      <td>419.903</td>\n      <td>393.147</td>\n      <td>429.775</td>\n      <td>364.818</td>\n      <td>417.647</td>\n      <td>348.383</td>\n      <td>404.625</td>\n      <td>357.951</td>\n      <td>418.439</td>\n      <td>...</td>\n      <td>368.679</td>\n      <td>416.772</td>\n      <td>384.307</td>\n      <td>416.631</td>\n      <td>337.422</td>\n      <td>370.817</td>\n      <td>395.176</td>\n      <td>412.317</td>\n      <td>390.490</td>\n      <td>439.211</td>\n    </tr>\n  </tbody>\n</table>\n<p>613744 rows × 110 columns</p>\n</div>"
     },
     "execution_count": 110,
     "metadata": {},
     "output_type": "execute_result"
    }
   ],
   "source": [
    "filtered_df"
   ],
   "metadata": {
    "collapsed": false,
    "ExecuteTime": {
     "end_time": "2024-03-13T15:16:39.732191400Z",
     "start_time": "2024-03-13T15:16:39.665995800Z"
    }
   },
   "id": "ffdded2d035bfae9",
   "execution_count": 110
  },
  {
   "cell_type": "code",
   "outputs": [
    {
     "ename": "IndexingError",
     "evalue": "Too many indexers",
     "output_type": "error",
     "traceback": [
      "\u001B[1;31m---------------------------------------------------------------------------\u001B[0m",
      "\u001B[1;31mIndexingError\u001B[0m                             Traceback (most recent call last)",
      "Cell \u001B[1;32mIn[107], line 1\u001B[0m\n\u001B[1;32m----> 1\u001B[0m filtered_df\u001B[38;5;241m.\u001B[39miloc[:,:\u001B[38;5;241m10\u001B[39m]\n",
      "File \u001B[1;32mD:\\anaconda3\\Lib\\site-packages\\pandas\\core\\indexing.py:1097\u001B[0m, in \u001B[0;36m_LocationIndexer.__getitem__\u001B[1;34m(self, key)\u001B[0m\n\u001B[0;32m   1095\u001B[0m     \u001B[38;5;28;01mif\u001B[39;00m \u001B[38;5;28mself\u001B[39m\u001B[38;5;241m.\u001B[39m_is_scalar_access(key):\n\u001B[0;32m   1096\u001B[0m         \u001B[38;5;28;01mreturn\u001B[39;00m \u001B[38;5;28mself\u001B[39m\u001B[38;5;241m.\u001B[39mobj\u001B[38;5;241m.\u001B[39m_get_value(\u001B[38;5;241m*\u001B[39mkey, takeable\u001B[38;5;241m=\u001B[39m\u001B[38;5;28mself\u001B[39m\u001B[38;5;241m.\u001B[39m_takeable)\n\u001B[1;32m-> 1097\u001B[0m     \u001B[38;5;28;01mreturn\u001B[39;00m \u001B[38;5;28mself\u001B[39m\u001B[38;5;241m.\u001B[39m_getitem_tuple(key)\n\u001B[0;32m   1098\u001B[0m \u001B[38;5;28;01melse\u001B[39;00m:\n\u001B[0;32m   1099\u001B[0m     \u001B[38;5;66;03m# we by definition only have the 0th axis\u001B[39;00m\n\u001B[0;32m   1100\u001B[0m     axis \u001B[38;5;241m=\u001B[39m \u001B[38;5;28mself\u001B[39m\u001B[38;5;241m.\u001B[39maxis \u001B[38;5;129;01mor\u001B[39;00m \u001B[38;5;241m0\u001B[39m\n",
      "File \u001B[1;32mD:\\anaconda3\\Lib\\site-packages\\pandas\\core\\indexing.py:1594\u001B[0m, in \u001B[0;36m_iLocIndexer._getitem_tuple\u001B[1;34m(self, tup)\u001B[0m\n\u001B[0;32m   1593\u001B[0m \u001B[38;5;28;01mdef\u001B[39;00m \u001B[38;5;21m_getitem_tuple\u001B[39m(\u001B[38;5;28mself\u001B[39m, tup: \u001B[38;5;28mtuple\u001B[39m):\n\u001B[1;32m-> 1594\u001B[0m     tup \u001B[38;5;241m=\u001B[39m \u001B[38;5;28mself\u001B[39m\u001B[38;5;241m.\u001B[39m_validate_tuple_indexer(tup)\n\u001B[0;32m   1595\u001B[0m     \u001B[38;5;28;01mwith\u001B[39;00m suppress(IndexingError):\n\u001B[0;32m   1596\u001B[0m         \u001B[38;5;28;01mreturn\u001B[39;00m \u001B[38;5;28mself\u001B[39m\u001B[38;5;241m.\u001B[39m_getitem_lowerdim(tup)\n",
      "File \u001B[1;32mD:\\anaconda3\\Lib\\site-packages\\pandas\\core\\indexing.py:900\u001B[0m, in \u001B[0;36m_LocationIndexer._validate_tuple_indexer\u001B[1;34m(self, key)\u001B[0m\n\u001B[0;32m    895\u001B[0m \u001B[38;5;129m@final\u001B[39m\n\u001B[0;32m    896\u001B[0m \u001B[38;5;28;01mdef\u001B[39;00m \u001B[38;5;21m_validate_tuple_indexer\u001B[39m(\u001B[38;5;28mself\u001B[39m, key: \u001B[38;5;28mtuple\u001B[39m) \u001B[38;5;241m-\u001B[39m\u001B[38;5;241m>\u001B[39m \u001B[38;5;28mtuple\u001B[39m:\n\u001B[0;32m    897\u001B[0m \u001B[38;5;250m    \u001B[39m\u001B[38;5;124;03m\"\"\"\u001B[39;00m\n\u001B[0;32m    898\u001B[0m \u001B[38;5;124;03m    Check the key for valid keys across my indexer.\u001B[39;00m\n\u001B[0;32m    899\u001B[0m \u001B[38;5;124;03m    \"\"\"\u001B[39;00m\n\u001B[1;32m--> 900\u001B[0m     key \u001B[38;5;241m=\u001B[39m \u001B[38;5;28mself\u001B[39m\u001B[38;5;241m.\u001B[39m_validate_key_length(key)\n\u001B[0;32m    901\u001B[0m     key \u001B[38;5;241m=\u001B[39m \u001B[38;5;28mself\u001B[39m\u001B[38;5;241m.\u001B[39m_expand_ellipsis(key)\n\u001B[0;32m    902\u001B[0m     \u001B[38;5;28;01mfor\u001B[39;00m i, k \u001B[38;5;129;01min\u001B[39;00m \u001B[38;5;28menumerate\u001B[39m(key):\n",
      "File \u001B[1;32mD:\\anaconda3\\Lib\\site-packages\\pandas\\core\\indexing.py:939\u001B[0m, in \u001B[0;36m_LocationIndexer._validate_key_length\u001B[1;34m(self, key)\u001B[0m\n\u001B[0;32m    937\u001B[0m             \u001B[38;5;28;01mraise\u001B[39;00m IndexingError(_one_ellipsis_message)\n\u001B[0;32m    938\u001B[0m         \u001B[38;5;28;01mreturn\u001B[39;00m \u001B[38;5;28mself\u001B[39m\u001B[38;5;241m.\u001B[39m_validate_key_length(key)\n\u001B[1;32m--> 939\u001B[0m     \u001B[38;5;28;01mraise\u001B[39;00m IndexingError(\u001B[38;5;124m\"\u001B[39m\u001B[38;5;124mToo many indexers\u001B[39m\u001B[38;5;124m\"\u001B[39m)\n\u001B[0;32m    940\u001B[0m \u001B[38;5;28;01mreturn\u001B[39;00m key\n",
      "\u001B[1;31mIndexingError\u001B[0m: Too many indexers"
     ]
    }
   ],
   "source": [
    "filtered_df.iloc[:,:10]"
   ],
   "metadata": {
    "collapsed": false,
    "ExecuteTime": {
     "end_time": "2024-03-13T15:16:24.602972700Z",
     "start_time": "2024-03-13T15:16:24.566291100Z"
    }
   },
   "id": "2d8904f8b985bebf",
   "execution_count": 107
  },
  {
   "cell_type": "code",
   "outputs": [
    {
     "data": {
      "text/plain": "0         223.0351\n1         308.4938\n2         313.7353\n3         298.7323\n4         475.7512\n            ...   \n613739    327.0151\n613740    286.4383\n613741    411.8666\n613742    338.1192\n613743    390.4744\nName: 0, Length: 613744, dtype: float64"
     },
     "execution_count": 111,
     "metadata": {},
     "output_type": "execute_result"
    }
   ],
   "source": [
    "filtered_df = filtered_df.iloc[:, :10].mean(axis=1).to_frame()\n",
    "filtered_df = filtered_df.iloc[:, 0]\n",
    "filtered_df"
   ],
   "metadata": {
    "collapsed": false,
    "ExecuteTime": {
     "end_time": "2024-03-13T15:16:46.335390Z",
     "start_time": "2024-03-13T15:16:46.279838100Z"
    }
   },
   "id": "2ba01ac2aa06f1e4",
   "execution_count": 111
  },
  {
   "cell_type": "code",
   "outputs": [
    {
     "data": {
      "text/plain": "0          3.15874\n1          4.34524\n2          7.83860\n3          8.49148\n4          3.70957\n            ...   \n613739    69.40366\n613740    63.18910\n613741    65.47339\n613742    66.15595\n613743    65.47339\nName: W_FSTUWT, Length: 613744, dtype: float64"
     },
     "execution_count": 103,
     "metadata": {},
     "output_type": "execute_result"
    }
   ],
   "source": [
    "weights = df['W_FSTUWT']\n",
    "weights"
   ],
   "metadata": {
    "collapsed": false,
    "ExecuteTime": {
     "end_time": "2024-03-13T15:16:17.987645800Z",
     "start_time": "2024-03-13T15:16:17.978991500Z"
    }
   },
   "id": "c5382571ebe80ebf",
   "execution_count": 103
  },
  {
   "cell_type": "code",
   "outputs": [
    {
     "data": {
      "text/plain": "0           704.509892\n1          1340.479600\n2          2459.245523\n3          2536.679351\n4          1764.832379\n              ...     \n613739    22696.044815\n613740    18099.778383\n613741    26966.302530\n613742    22368.596889\n613743    25565.682676\nLength: 613744, dtype: float64"
     },
     "execution_count": 113,
     "metadata": {},
     "output_type": "execute_result"
    }
   ],
   "source": [
    "weighted_column_df = filtered_df.multiply(weights)\n",
    "weighted_column_df"
   ],
   "metadata": {
    "collapsed": false,
    "ExecuteTime": {
     "end_time": "2024-03-13T15:17:07.960519900Z",
     "start_time": "2024-03-13T15:17:07.951843Z"
    }
   },
   "id": "505d811eaefb47f",
   "execution_count": 113
  },
  {
   "cell_type": "code",
   "outputs": [
    {
     "name": "stderr",
     "output_type": "stream",
     "text": [
      "C:\\Users\\PC\\AppData\\Local\\Temp\\ipykernel_30452\\488643966.py:1: DtypeWarning: Columns (11,26,27,28,29,30,33,34,35,36,37,38,41,42,43,44,45,46,47,48,49,50,51,52,53,54,55,56,57,58,59,60,61,62,63,64,65,66,67,68,69,70,71,72,73,74,75,76,77,78,79,80,81,82,83,84,85,86,87,88,89,90,91,92,93,94,95,96,97,98,99,100,101,102,103,104,105,106,107,108,109,110,111,112,113,114,115,116,117,118,119,120,121,122,123,124,125,126,127,128,129,130,131,132,133,134,135,136,137,138,139,140,141,142,149,150,151,152,153,154,171,172,173,174,175,176,177,178,179,180,181,182,183,184,185,186,187,188,189,190,211,212,213,214,215,216,217,218,219,220,229,230,231,232,233,234,235,236,237,238,249,250,251,252,253,254,255,256,257,258,263,264,265,266,267,268,269,270,271,272,273,274,275,276,277,278,279,280,281,282,283,284,285,286,287,288,289,290,300,301,302,303,304,305,306,307,308,309,310,311,312,313,314,315,316,317,318,328,329,330,331,332,333,334,335,336,349,350,357,359,360,361,362,363,364,365,366,367,368,369,370,371,372,373,374,375,376,377,378,379,442,443,444,445,446,447,448,449,450,451,452,453,454,455,456,457,458,459,460,461,467,480,481,482,483,484,485,486,487,488,489,490,491,492,493,494,495,496,497,498,499,500,501,502,503,504,505,506,507,508,509,510,511,512,513,514,515,516,517,518,519,520,521,522,523,524,525,526,527,528,529,530,531,532,533,534,535,536,537,631,632,633,634,635,636,637,638,639,640,641,642,643,644,645,646,647,648,649,650,651,652,653,654,655,656,657,658,659,660,661,662,663,664,665,666,667,668,669,670,671,672,673,674,675,676,677,678,679,680,681,682,683,684,685,686,687,688,689,690,691,692,693,694,695,696,697,698,699,700,701,702,703,704,705,706,707,708,709,710,711,712,713,714,715,716,717,718,719,720,721,722,723,724,725,726,727,728,729,730,731,732,733,734,735,736,737,738,739,740,741,742,743,744,745,746,747,748,749,750,751,752,753,754,755,756,757,758,759,760,761,762,763,764,765,766,767,768,769,770,771,772,773,774,775,776,777,778,779,780,781,782,783,784,785,786,787,788,789,790,791,792,793,794,795,796,797,798,799,800,801,802,803,804,805,806,807,808,809,810,811,812,813,814,815,816,817,818,819,820,821,822,823,824,825,826,827,828,829,830,831,832,833,834,835,836,837,838,839,840,841,842,843,844,845,846,847,848,849,850,851,852,853,854,855,856,857,858,859,860,861,862,863,864,865,866,867,868,869,870,871,872,873,874,875,876,877,878,879,880,881,882,883,884,885,886,887,888,889,890,891,892,893,894,895,896,897,898,899,900,901,902,903,904,905,906,907,908,909,910,911,912,913,914,915,916,917,918,919,956,957,958,959,960,961,968,982,1029,1030,1062,1196,1197,1198,1199,1200,1201,1202,1203,1204,1205,1206,1207,1208,1209,1210,1211,1212,1213,1214,1215,1216,1217,1218,1219,1220,1221,1222,1223,1224,1225,1226,1227,1228,1229,1230,1231,1232,1233,1234,1235,1236,1237,1238,1239,1240,1241,1242,1243,1244,1245,1246,1247,1248,1249,1250,1251,1252,1253,1254,1255,1256,1257,1258,1259,1260,1261,1262,1263,1264,1265,1266,1267,1268,1269,1270,1271,1272,1273,1274,1275,1282,1283,1284,1285,1286,1287,1288,1289) have mixed types. Specify dtype option on import or set low_memory=False.\n",
      "  dataframe = pd.read_csv('CY08MSP_STU_QQQ_new.csv')\n"
     ]
    }
   ],
   "source": [
    "dataframe = pd.read_csv('CY08MSP_STU_QQQ_new.csv')\n",
    "dataframe = dataframe[(dataframe['CNT'] == 'HKG') | (dataframe['CNT'] == 'MAC') | (dataframe['CNT'] == 'TAP')]"
   ],
   "metadata": {
    "collapsed": false,
    "ExecuteTime": {
     "end_time": "2024-03-13T17:01:49.685718800Z",
     "start_time": "2024-03-13T17:01:31.567556700Z"
    }
   },
   "id": "a8e2c39466373e13",
   "execution_count": 115
  },
  {
   "cell_type": "code",
   "outputs": [
    {
     "data": {
      "text/plain": "        CNT  CNTRYID  CNTSCHID  CNTSTUID   CYC  NatCen STRATUM  SUBNATIO  \\\n111155  TAP      158  15800121  15800002  08MS   15800   TAP02   1580000   \n111156  TAP      158  15800067  15800003  08MS   15800   TAP10   1580000   \n111157  TAP      158  15800045  15800004  08MS   15800   TAP13   1580000   \n111158  TAP      158  15800216  15800005  08MS   15800   TAP08   1580000   \n111159  TAP      158  15800028  15800007  08MS   15800   TAP13   1580000   \n...     ...      ...       ...       ...   ...     ...     ...       ...   \n117007  TAP      158  15800142  15808407  08MS   15800   TAP08   1580000   \n117008  TAP      158  15800190  15808408  08MS   15800   TAP07   1580000   \n117009  TAP      158  15800038  15808411  08MS   15800   TAP02   1580000   \n117010  TAP      158  15800091  15808412  08MS   15800   TAP14   1580000   \n117011  TAP      158  15800083  15808413  08MS   15800   TAP16   1580000   \n\n        REGION  OECD  ...    PVREAD    PVSCIE    PVMCCR    PVMCQN    PVMCSS  \\\n111155   15800     0  ...  546.3877  532.9300  567.4887  582.4041  555.0647   \n111156   15800     0  ...  560.4321  506.2942  536.8495  578.2138  576.7185   \n111157   15800     0  ...  650.7925  646.2069  678.8159  733.7847  720.6881   \n111158   15800     0  ...  453.1688  367.5244  378.9017  407.0545  474.6111   \n111159   15800     0  ...  551.8421  509.8032  580.6639  596.6756  585.2936   \n...        ...   ...  ...       ...       ...       ...       ...       ...   \n117007   15800     0  ...  576.5285  594.7836    602.26  592.2986  578.6207   \n117008   15800     0  ...  532.5477  475.6030  525.1763  534.6003  564.8438   \n117009   15800     0  ...  541.1986  589.8292  539.5075  577.3314  584.8321   \n117010   15800     0  ...  512.8787  586.2202  526.6018   569.377  571.2576   \n117011   15800     0  ...  559.7079  570.6131  626.2401  539.2027  563.6279   \n\n          PVMCUD    PVMPEM    PVMPFS    PVMPIN    PVMPRE  \n111155  556.9153  556.9614  555.5655  571.3713  614.5495  \n111156  555.7239  621.5013  551.9805  589.7321  569.0942  \n111157  703.0225  745.3378   699.362  707.6447  723.1284  \n111158  418.6725  399.5022  397.9351  405.7414  438.2599  \n111159  583.2789  571.0235  566.2138  595.1984  553.8403  \n...          ...       ...       ...       ...       ...  \n117007  609.3909  611.6502  607.4982  578.3984  567.6166  \n117008   544.344   501.102  520.5181  514.6167  528.9199  \n117009  556.0226  602.0464  578.3022  575.5695  553.3003  \n117010  571.6544  557.7442  491.6458  587.0444  557.1557  \n117011  596.4192  546.0893  618.5003   592.585  591.7506  \n\n[5857 rows x 1290 columns]",
      "text/html": "<div>\n<style scoped>\n    .dataframe tbody tr th:only-of-type {\n        vertical-align: middle;\n    }\n\n    .dataframe tbody tr th {\n        vertical-align: top;\n    }\n\n    .dataframe thead th {\n        text-align: right;\n    }\n</style>\n<table border=\"1\" class=\"dataframe\">\n  <thead>\n    <tr style=\"text-align: right;\">\n      <th></th>\n      <th>CNT</th>\n      <th>CNTRYID</th>\n      <th>CNTSCHID</th>\n      <th>CNTSTUID</th>\n      <th>CYC</th>\n      <th>NatCen</th>\n      <th>STRATUM</th>\n      <th>SUBNATIO</th>\n      <th>REGION</th>\n      <th>OECD</th>\n      <th>...</th>\n      <th>PVREAD</th>\n      <th>PVSCIE</th>\n      <th>PVMCCR</th>\n      <th>PVMCQN</th>\n      <th>PVMCSS</th>\n      <th>PVMCUD</th>\n      <th>PVMPEM</th>\n      <th>PVMPFS</th>\n      <th>PVMPIN</th>\n      <th>PVMPRE</th>\n    </tr>\n  </thead>\n  <tbody>\n    <tr>\n      <th>111155</th>\n      <td>TAP</td>\n      <td>158</td>\n      <td>15800121</td>\n      <td>15800002</td>\n      <td>08MS</td>\n      <td>15800</td>\n      <td>TAP02</td>\n      <td>1580000</td>\n      <td>15800</td>\n      <td>0</td>\n      <td>...</td>\n      <td>546.3877</td>\n      <td>532.9300</td>\n      <td>567.4887</td>\n      <td>582.4041</td>\n      <td>555.0647</td>\n      <td>556.9153</td>\n      <td>556.9614</td>\n      <td>555.5655</td>\n      <td>571.3713</td>\n      <td>614.5495</td>\n    </tr>\n    <tr>\n      <th>111156</th>\n      <td>TAP</td>\n      <td>158</td>\n      <td>15800067</td>\n      <td>15800003</td>\n      <td>08MS</td>\n      <td>15800</td>\n      <td>TAP10</td>\n      <td>1580000</td>\n      <td>15800</td>\n      <td>0</td>\n      <td>...</td>\n      <td>560.4321</td>\n      <td>506.2942</td>\n      <td>536.8495</td>\n      <td>578.2138</td>\n      <td>576.7185</td>\n      <td>555.7239</td>\n      <td>621.5013</td>\n      <td>551.9805</td>\n      <td>589.7321</td>\n      <td>569.0942</td>\n    </tr>\n    <tr>\n      <th>111157</th>\n      <td>TAP</td>\n      <td>158</td>\n      <td>15800045</td>\n      <td>15800004</td>\n      <td>08MS</td>\n      <td>15800</td>\n      <td>TAP13</td>\n      <td>1580000</td>\n      <td>15800</td>\n      <td>0</td>\n      <td>...</td>\n      <td>650.7925</td>\n      <td>646.2069</td>\n      <td>678.8159</td>\n      <td>733.7847</td>\n      <td>720.6881</td>\n      <td>703.0225</td>\n      <td>745.3378</td>\n      <td>699.362</td>\n      <td>707.6447</td>\n      <td>723.1284</td>\n    </tr>\n    <tr>\n      <th>111158</th>\n      <td>TAP</td>\n      <td>158</td>\n      <td>15800216</td>\n      <td>15800005</td>\n      <td>08MS</td>\n      <td>15800</td>\n      <td>TAP08</td>\n      <td>1580000</td>\n      <td>15800</td>\n      <td>0</td>\n      <td>...</td>\n      <td>453.1688</td>\n      <td>367.5244</td>\n      <td>378.9017</td>\n      <td>407.0545</td>\n      <td>474.6111</td>\n      <td>418.6725</td>\n      <td>399.5022</td>\n      <td>397.9351</td>\n      <td>405.7414</td>\n      <td>438.2599</td>\n    </tr>\n    <tr>\n      <th>111159</th>\n      <td>TAP</td>\n      <td>158</td>\n      <td>15800028</td>\n      <td>15800007</td>\n      <td>08MS</td>\n      <td>15800</td>\n      <td>TAP13</td>\n      <td>1580000</td>\n      <td>15800</td>\n      <td>0</td>\n      <td>...</td>\n      <td>551.8421</td>\n      <td>509.8032</td>\n      <td>580.6639</td>\n      <td>596.6756</td>\n      <td>585.2936</td>\n      <td>583.2789</td>\n      <td>571.0235</td>\n      <td>566.2138</td>\n      <td>595.1984</td>\n      <td>553.8403</td>\n    </tr>\n    <tr>\n      <th>...</th>\n      <td>...</td>\n      <td>...</td>\n      <td>...</td>\n      <td>...</td>\n      <td>...</td>\n      <td>...</td>\n      <td>...</td>\n      <td>...</td>\n      <td>...</td>\n      <td>...</td>\n      <td>...</td>\n      <td>...</td>\n      <td>...</td>\n      <td>...</td>\n      <td>...</td>\n      <td>...</td>\n      <td>...</td>\n      <td>...</td>\n      <td>...</td>\n      <td>...</td>\n      <td>...</td>\n    </tr>\n    <tr>\n      <th>117007</th>\n      <td>TAP</td>\n      <td>158</td>\n      <td>15800142</td>\n      <td>15808407</td>\n      <td>08MS</td>\n      <td>15800</td>\n      <td>TAP08</td>\n      <td>1580000</td>\n      <td>15800</td>\n      <td>0</td>\n      <td>...</td>\n      <td>576.5285</td>\n      <td>594.7836</td>\n      <td>602.26</td>\n      <td>592.2986</td>\n      <td>578.6207</td>\n      <td>609.3909</td>\n      <td>611.6502</td>\n      <td>607.4982</td>\n      <td>578.3984</td>\n      <td>567.6166</td>\n    </tr>\n    <tr>\n      <th>117008</th>\n      <td>TAP</td>\n      <td>158</td>\n      <td>15800190</td>\n      <td>15808408</td>\n      <td>08MS</td>\n      <td>15800</td>\n      <td>TAP07</td>\n      <td>1580000</td>\n      <td>15800</td>\n      <td>0</td>\n      <td>...</td>\n      <td>532.5477</td>\n      <td>475.6030</td>\n      <td>525.1763</td>\n      <td>534.6003</td>\n      <td>564.8438</td>\n      <td>544.344</td>\n      <td>501.102</td>\n      <td>520.5181</td>\n      <td>514.6167</td>\n      <td>528.9199</td>\n    </tr>\n    <tr>\n      <th>117009</th>\n      <td>TAP</td>\n      <td>158</td>\n      <td>15800038</td>\n      <td>15808411</td>\n      <td>08MS</td>\n      <td>15800</td>\n      <td>TAP02</td>\n      <td>1580000</td>\n      <td>15800</td>\n      <td>0</td>\n      <td>...</td>\n      <td>541.1986</td>\n      <td>589.8292</td>\n      <td>539.5075</td>\n      <td>577.3314</td>\n      <td>584.8321</td>\n      <td>556.0226</td>\n      <td>602.0464</td>\n      <td>578.3022</td>\n      <td>575.5695</td>\n      <td>553.3003</td>\n    </tr>\n    <tr>\n      <th>117010</th>\n      <td>TAP</td>\n      <td>158</td>\n      <td>15800091</td>\n      <td>15808412</td>\n      <td>08MS</td>\n      <td>15800</td>\n      <td>TAP14</td>\n      <td>1580000</td>\n      <td>15800</td>\n      <td>0</td>\n      <td>...</td>\n      <td>512.8787</td>\n      <td>586.2202</td>\n      <td>526.6018</td>\n      <td>569.377</td>\n      <td>571.2576</td>\n      <td>571.6544</td>\n      <td>557.7442</td>\n      <td>491.6458</td>\n      <td>587.0444</td>\n      <td>557.1557</td>\n    </tr>\n    <tr>\n      <th>117011</th>\n      <td>TAP</td>\n      <td>158</td>\n      <td>15800083</td>\n      <td>15808413</td>\n      <td>08MS</td>\n      <td>15800</td>\n      <td>TAP16</td>\n      <td>1580000</td>\n      <td>15800</td>\n      <td>0</td>\n      <td>...</td>\n      <td>559.7079</td>\n      <td>570.6131</td>\n      <td>626.2401</td>\n      <td>539.2027</td>\n      <td>563.6279</td>\n      <td>596.4192</td>\n      <td>546.0893</td>\n      <td>618.5003</td>\n      <td>592.585</td>\n      <td>591.7506</td>\n    </tr>\n  </tbody>\n</table>\n<p>5857 rows × 1290 columns</p>\n</div>"
     },
     "execution_count": 116,
     "metadata": {},
     "output_type": "execute_result"
    }
   ],
   "source": [
    "dataframe"
   ],
   "metadata": {
    "collapsed": false,
    "ExecuteTime": {
     "end_time": "2024-03-13T17:03:04.117045600Z",
     "start_time": "2024-03-13T17:03:04.100482100Z"
    }
   },
   "id": "cb8a6f28c6bd2544",
   "execution_count": 116
  },
  {
   "cell_type": "code",
   "outputs": [
    {
     "data": {
      "text/plain": "          PVMATH    PVREAD    PVSCIE    PVMCCR    PVMCQN    PVMCSS    PVMCUD  \\\n111155  575.0784  546.3877  532.9300  567.4887  582.4041  555.0647  556.9153   \n111156  551.3653  560.4321  506.2942  536.8495  578.2138  576.7185  555.7239   \n111157  726.4168  650.7925  646.2069  678.8159  733.7847  720.6881  703.0225   \n111158  399.9596  453.1688  367.5244  378.9017  407.0545  474.6111  418.6725   \n111159  576.2661  551.8421  509.8032  580.6639  596.6756  585.2936  583.2789   \n...          ...       ...       ...       ...       ...       ...       ...   \n117007  601.8060  576.5285  594.7836    602.26  592.2986  578.6207  609.3909   \n117008  541.1607  532.5477  475.6030  525.1763  534.6003  564.8438   544.344   \n117009  577.1978  541.1986  589.8292  539.5075  577.3314  584.8321  556.0226   \n117010  550.4553  512.8787  586.2202  526.6018   569.377  571.2576  571.6544   \n117011  584.2846  559.7079  570.6131  626.2401  539.2027  563.6279  596.4192   \n\n          PVMPEM    PVMPFS    PVMPIN    PVMPRE  \n111155  556.9614  555.5655  571.3713  614.5495  \n111156  621.5013  551.9805  589.7321  569.0942  \n111157  745.3378   699.362  707.6447  723.1284  \n111158  399.5022  397.9351  405.7414  438.2599  \n111159  571.0235  566.2138  595.1984  553.8403  \n...          ...       ...       ...       ...  \n117007  611.6502  607.4982  578.3984  567.6166  \n117008   501.102  520.5181  514.6167  528.9199  \n117009  602.0464  578.3022  575.5695  553.3003  \n117010  557.7442  491.6458  587.0444  557.1557  \n117011  546.0893  618.5003   592.585  591.7506  \n\n[5857 rows x 11 columns]",
      "text/html": "<div>\n<style scoped>\n    .dataframe tbody tr th:only-of-type {\n        vertical-align: middle;\n    }\n\n    .dataframe tbody tr th {\n        vertical-align: top;\n    }\n\n    .dataframe thead th {\n        text-align: right;\n    }\n</style>\n<table border=\"1\" class=\"dataframe\">\n  <thead>\n    <tr style=\"text-align: right;\">\n      <th></th>\n      <th>PVMATH</th>\n      <th>PVREAD</th>\n      <th>PVSCIE</th>\n      <th>PVMCCR</th>\n      <th>PVMCQN</th>\n      <th>PVMCSS</th>\n      <th>PVMCUD</th>\n      <th>PVMPEM</th>\n      <th>PVMPFS</th>\n      <th>PVMPIN</th>\n      <th>PVMPRE</th>\n    </tr>\n  </thead>\n  <tbody>\n    <tr>\n      <th>111155</th>\n      <td>575.0784</td>\n      <td>546.3877</td>\n      <td>532.9300</td>\n      <td>567.4887</td>\n      <td>582.4041</td>\n      <td>555.0647</td>\n      <td>556.9153</td>\n      <td>556.9614</td>\n      <td>555.5655</td>\n      <td>571.3713</td>\n      <td>614.5495</td>\n    </tr>\n    <tr>\n      <th>111156</th>\n      <td>551.3653</td>\n      <td>560.4321</td>\n      <td>506.2942</td>\n      <td>536.8495</td>\n      <td>578.2138</td>\n      <td>576.7185</td>\n      <td>555.7239</td>\n      <td>621.5013</td>\n      <td>551.9805</td>\n      <td>589.7321</td>\n      <td>569.0942</td>\n    </tr>\n    <tr>\n      <th>111157</th>\n      <td>726.4168</td>\n      <td>650.7925</td>\n      <td>646.2069</td>\n      <td>678.8159</td>\n      <td>733.7847</td>\n      <td>720.6881</td>\n      <td>703.0225</td>\n      <td>745.3378</td>\n      <td>699.362</td>\n      <td>707.6447</td>\n      <td>723.1284</td>\n    </tr>\n    <tr>\n      <th>111158</th>\n      <td>399.9596</td>\n      <td>453.1688</td>\n      <td>367.5244</td>\n      <td>378.9017</td>\n      <td>407.0545</td>\n      <td>474.6111</td>\n      <td>418.6725</td>\n      <td>399.5022</td>\n      <td>397.9351</td>\n      <td>405.7414</td>\n      <td>438.2599</td>\n    </tr>\n    <tr>\n      <th>111159</th>\n      <td>576.2661</td>\n      <td>551.8421</td>\n      <td>509.8032</td>\n      <td>580.6639</td>\n      <td>596.6756</td>\n      <td>585.2936</td>\n      <td>583.2789</td>\n      <td>571.0235</td>\n      <td>566.2138</td>\n      <td>595.1984</td>\n      <td>553.8403</td>\n    </tr>\n    <tr>\n      <th>...</th>\n      <td>...</td>\n      <td>...</td>\n      <td>...</td>\n      <td>...</td>\n      <td>...</td>\n      <td>...</td>\n      <td>...</td>\n      <td>...</td>\n      <td>...</td>\n      <td>...</td>\n      <td>...</td>\n    </tr>\n    <tr>\n      <th>117007</th>\n      <td>601.8060</td>\n      <td>576.5285</td>\n      <td>594.7836</td>\n      <td>602.26</td>\n      <td>592.2986</td>\n      <td>578.6207</td>\n      <td>609.3909</td>\n      <td>611.6502</td>\n      <td>607.4982</td>\n      <td>578.3984</td>\n      <td>567.6166</td>\n    </tr>\n    <tr>\n      <th>117008</th>\n      <td>541.1607</td>\n      <td>532.5477</td>\n      <td>475.6030</td>\n      <td>525.1763</td>\n      <td>534.6003</td>\n      <td>564.8438</td>\n      <td>544.344</td>\n      <td>501.102</td>\n      <td>520.5181</td>\n      <td>514.6167</td>\n      <td>528.9199</td>\n    </tr>\n    <tr>\n      <th>117009</th>\n      <td>577.1978</td>\n      <td>541.1986</td>\n      <td>589.8292</td>\n      <td>539.5075</td>\n      <td>577.3314</td>\n      <td>584.8321</td>\n      <td>556.0226</td>\n      <td>602.0464</td>\n      <td>578.3022</td>\n      <td>575.5695</td>\n      <td>553.3003</td>\n    </tr>\n    <tr>\n      <th>117010</th>\n      <td>550.4553</td>\n      <td>512.8787</td>\n      <td>586.2202</td>\n      <td>526.6018</td>\n      <td>569.377</td>\n      <td>571.2576</td>\n      <td>571.6544</td>\n      <td>557.7442</td>\n      <td>491.6458</td>\n      <td>587.0444</td>\n      <td>557.1557</td>\n    </tr>\n    <tr>\n      <th>117011</th>\n      <td>584.2846</td>\n      <td>559.7079</td>\n      <td>570.6131</td>\n      <td>626.2401</td>\n      <td>539.2027</td>\n      <td>563.6279</td>\n      <td>596.4192</td>\n      <td>546.0893</td>\n      <td>618.5003</td>\n      <td>592.585</td>\n      <td>591.7506</td>\n    </tr>\n  </tbody>\n</table>\n<p>5857 rows × 11 columns</p>\n</div>"
     },
     "execution_count": 120,
     "metadata": {},
     "output_type": "execute_result"
    }
   ],
   "source": [
    "# 指定要筛选的两列名\n",
    "start_column = 'PVMATH'\n",
    "end_column = 'PVMPRE'\n",
    "# 变成11个列\n",
    "# 找中位数 变成0 1 变量 MATH\n",
    "# 其他的1234 \n",
    "# 使用loc方法筛选两列之间的数据\n",
    "filtered_df = dataframe.loc[:, start_column:end_column]\n",
    "filtered_df"
   ],
   "metadata": {
    "collapsed": false,
    "ExecuteTime": {
     "end_time": "2024-03-13T17:06:04.959913700Z",
     "start_time": "2024-03-13T17:06:04.947062100Z"
    }
   },
   "id": "4136157d809ecddf",
   "execution_count": 120
  },
  {
   "cell_type": "code",
   "outputs": [],
   "source": [
    "sorted_df = filtered_df.apply(lambda x: x.sort_values().values)"
   ],
   "metadata": {
    "collapsed": false,
    "ExecuteTime": {
     "end_time": "2024-03-13T17:48:41.480909100Z",
     "start_time": "2024-03-13T17:48:41.456627Z"
    }
   },
   "id": "df346efec5a9805b",
   "execution_count": 189
  },
  {
   "cell_type": "code",
   "outputs": [],
   "source": [
    "filtered_df.to_csv('origin.csv')"
   ],
   "metadata": {
    "collapsed": false,
    "ExecuteTime": {
     "end_time": "2024-03-13T18:03:46.250593300Z",
     "start_time": "2024-03-13T18:03:46.233870200Z"
    }
   },
   "id": "776648f444c5e473",
   "execution_count": 201
  },
  {
   "cell_type": "code",
   "outputs": [],
   "source": [
    "sorted_df = filtered_df"
   ],
   "metadata": {
    "collapsed": false,
    "ExecuteTime": {
     "end_time": "2024-03-13T17:52:47.944666500Z",
     "start_time": "2024-03-13T17:52:47.927466300Z"
    }
   },
   "id": "61b426b051b5b4ea",
   "execution_count": 195
  },
  {
   "cell_type": "code",
   "outputs": [
    {
     "data": {
      "text/plain": "        PVMATH    PVREAD    PVSCIE    PVMCCR    PVMCQN    PVMCSS    PVMCUD  \\\n111155       1  546.3877  532.9300  567.4887  582.4041  555.0647  556.9153   \n111156       1  560.4321  506.2942  536.8495  578.2138  576.7185  555.7239   \n111157       1  650.7925  646.2069  678.8159  733.7847  720.6881  703.0225   \n111158       0  453.1688  367.5244  378.9017  407.0545  474.6111  418.6725   \n111159       1  551.8421  509.8032  580.6639  596.6756  585.2936  583.2789   \n...        ...       ...       ...       ...       ...       ...       ...   \n117007       1  576.5285  594.7836    602.26  592.2986  578.6207  609.3909   \n117008       1  532.5477  475.6030  525.1763  534.6003  564.8438   544.344   \n117009       1  541.1986  589.8292  539.5075  577.3314  584.8321  556.0226   \n117010       1  512.8787  586.2202  526.6018   569.377  571.2576  571.6544   \n117011       1  559.7079  570.6131  626.2401  539.2027  563.6279  596.4192   \n\n          PVMPEM    PVMPFS    PVMPIN    PVMPRE  \n111155  556.9614  555.5655  571.3713  614.5495  \n111156  621.5013  551.9805  589.7321  569.0942  \n111157  745.3378   699.362  707.6447  723.1284  \n111158  399.5022  397.9351  405.7414  438.2599  \n111159  571.0235  566.2138  595.1984  553.8403  \n...          ...       ...       ...       ...  \n117007  611.6502  607.4982  578.3984  567.6166  \n117008   501.102  520.5181  514.6167  528.9199  \n117009  602.0464  578.3022  575.5695  553.3003  \n117010  557.7442  491.6458  587.0444  557.1557  \n117011  546.0893  618.5003   592.585  591.7506  \n\n[5857 rows x 11 columns]",
      "text/html": "<div>\n<style scoped>\n    .dataframe tbody tr th:only-of-type {\n        vertical-align: middle;\n    }\n\n    .dataframe tbody tr th {\n        vertical-align: top;\n    }\n\n    .dataframe thead th {\n        text-align: right;\n    }\n</style>\n<table border=\"1\" class=\"dataframe\">\n  <thead>\n    <tr style=\"text-align: right;\">\n      <th></th>\n      <th>PVMATH</th>\n      <th>PVREAD</th>\n      <th>PVSCIE</th>\n      <th>PVMCCR</th>\n      <th>PVMCQN</th>\n      <th>PVMCSS</th>\n      <th>PVMCUD</th>\n      <th>PVMPEM</th>\n      <th>PVMPFS</th>\n      <th>PVMPIN</th>\n      <th>PVMPRE</th>\n    </tr>\n  </thead>\n  <tbody>\n    <tr>\n      <th>111155</th>\n      <td>1</td>\n      <td>546.3877</td>\n      <td>532.9300</td>\n      <td>567.4887</td>\n      <td>582.4041</td>\n      <td>555.0647</td>\n      <td>556.9153</td>\n      <td>556.9614</td>\n      <td>555.5655</td>\n      <td>571.3713</td>\n      <td>614.5495</td>\n    </tr>\n    <tr>\n      <th>111156</th>\n      <td>1</td>\n      <td>560.4321</td>\n      <td>506.2942</td>\n      <td>536.8495</td>\n      <td>578.2138</td>\n      <td>576.7185</td>\n      <td>555.7239</td>\n      <td>621.5013</td>\n      <td>551.9805</td>\n      <td>589.7321</td>\n      <td>569.0942</td>\n    </tr>\n    <tr>\n      <th>111157</th>\n      <td>1</td>\n      <td>650.7925</td>\n      <td>646.2069</td>\n      <td>678.8159</td>\n      <td>733.7847</td>\n      <td>720.6881</td>\n      <td>703.0225</td>\n      <td>745.3378</td>\n      <td>699.362</td>\n      <td>707.6447</td>\n      <td>723.1284</td>\n    </tr>\n    <tr>\n      <th>111158</th>\n      <td>0</td>\n      <td>453.1688</td>\n      <td>367.5244</td>\n      <td>378.9017</td>\n      <td>407.0545</td>\n      <td>474.6111</td>\n      <td>418.6725</td>\n      <td>399.5022</td>\n      <td>397.9351</td>\n      <td>405.7414</td>\n      <td>438.2599</td>\n    </tr>\n    <tr>\n      <th>111159</th>\n      <td>1</td>\n      <td>551.8421</td>\n      <td>509.8032</td>\n      <td>580.6639</td>\n      <td>596.6756</td>\n      <td>585.2936</td>\n      <td>583.2789</td>\n      <td>571.0235</td>\n      <td>566.2138</td>\n      <td>595.1984</td>\n      <td>553.8403</td>\n    </tr>\n    <tr>\n      <th>...</th>\n      <td>...</td>\n      <td>...</td>\n      <td>...</td>\n      <td>...</td>\n      <td>...</td>\n      <td>...</td>\n      <td>...</td>\n      <td>...</td>\n      <td>...</td>\n      <td>...</td>\n      <td>...</td>\n    </tr>\n    <tr>\n      <th>117007</th>\n      <td>1</td>\n      <td>576.5285</td>\n      <td>594.7836</td>\n      <td>602.26</td>\n      <td>592.2986</td>\n      <td>578.6207</td>\n      <td>609.3909</td>\n      <td>611.6502</td>\n      <td>607.4982</td>\n      <td>578.3984</td>\n      <td>567.6166</td>\n    </tr>\n    <tr>\n      <th>117008</th>\n      <td>1</td>\n      <td>532.5477</td>\n      <td>475.6030</td>\n      <td>525.1763</td>\n      <td>534.6003</td>\n      <td>564.8438</td>\n      <td>544.344</td>\n      <td>501.102</td>\n      <td>520.5181</td>\n      <td>514.6167</td>\n      <td>528.9199</td>\n    </tr>\n    <tr>\n      <th>117009</th>\n      <td>1</td>\n      <td>541.1986</td>\n      <td>589.8292</td>\n      <td>539.5075</td>\n      <td>577.3314</td>\n      <td>584.8321</td>\n      <td>556.0226</td>\n      <td>602.0464</td>\n      <td>578.3022</td>\n      <td>575.5695</td>\n      <td>553.3003</td>\n    </tr>\n    <tr>\n      <th>117010</th>\n      <td>1</td>\n      <td>512.8787</td>\n      <td>586.2202</td>\n      <td>526.6018</td>\n      <td>569.377</td>\n      <td>571.2576</td>\n      <td>571.6544</td>\n      <td>557.7442</td>\n      <td>491.6458</td>\n      <td>587.0444</td>\n      <td>557.1557</td>\n    </tr>\n    <tr>\n      <th>117011</th>\n      <td>1</td>\n      <td>559.7079</td>\n      <td>570.6131</td>\n      <td>626.2401</td>\n      <td>539.2027</td>\n      <td>563.6279</td>\n      <td>596.4192</td>\n      <td>546.0893</td>\n      <td>618.5003</td>\n      <td>592.585</td>\n      <td>591.7506</td>\n    </tr>\n  </tbody>\n</table>\n<p>5857 rows × 11 columns</p>\n</div>"
     },
     "execution_count": 196,
     "metadata": {},
     "output_type": "execute_result"
    }
   ],
   "source": [
    "# 计算列的中位数\n",
    "median_value = sorted_df['PVMATH'].median()\n",
    "# 根据中位数将列中的值分割为 0 和 1\n",
    "sorted_df['PVMATH'] = sorted_df['PVMATH'].apply(lambda x: 0 if x <= median_value else 1)\n",
    "sorted_df"
   ],
   "metadata": {
    "collapsed": false,
    "ExecuteTime": {
     "end_time": "2024-03-13T17:52:52.216722200Z",
     "start_time": "2024-03-13T17:52:52.204704300Z"
    }
   },
   "id": "309d78f0b80c6987",
   "execution_count": 196
  },
  {
   "cell_type": "code",
   "outputs": [
    {
     "data": {
      "text/plain": "      PVMATH    PVREAD    PVSCIE    PVMCCR    PVMCQN    PVMCSS    PVMCUD  \\\n0          1  546.3877  532.9300  567.4887  582.4041  555.0647  556.9153   \n1          1  560.4321  506.2942  536.8495  578.2138  576.7185  555.7239   \n2          1  650.7925  646.2069  678.8159  733.7847  720.6881  703.0225   \n3          0  453.1688  367.5244  378.9017  407.0545  474.6111  418.6725   \n4          1  551.8421  509.8032  580.6639  596.6756  585.2936  583.2789   \n...      ...       ...       ...       ...       ...       ...       ...   \n5852       1  576.5285  594.7836    602.26  592.2986  578.6207  609.3909   \n5853       1  532.5477  475.6030  525.1763  534.6003  564.8438   544.344   \n5854       1  541.1986  589.8292  539.5075  577.3314  584.8321  556.0226   \n5855       1  512.8787  586.2202  526.6018   569.377  571.2576  571.6544   \n5856       1  559.7079  570.6131  626.2401  539.2027  563.6279  596.4192   \n\n        PVMPEM    PVMPFS    PVMPIN    PVMPRE  \n0     556.9614  555.5655  571.3713  614.5495  \n1     621.5013  551.9805  589.7321  569.0942  \n2     745.3378   699.362  707.6447  723.1284  \n3     399.5022  397.9351  405.7414  438.2599  \n4     571.0235  566.2138  595.1984  553.8403  \n...        ...       ...       ...       ...  \n5852  611.6502  607.4982  578.3984  567.6166  \n5853   501.102  520.5181  514.6167  528.9199  \n5854  602.0464  578.3022  575.5695  553.3003  \n5855  557.7442  491.6458  587.0444  557.1557  \n5856  546.0893  618.5003   592.585  591.7506  \n\n[5857 rows x 11 columns]",
      "text/html": "<div>\n<style scoped>\n    .dataframe tbody tr th:only-of-type {\n        vertical-align: middle;\n    }\n\n    .dataframe tbody tr th {\n        vertical-align: top;\n    }\n\n    .dataframe thead th {\n        text-align: right;\n    }\n</style>\n<table border=\"1\" class=\"dataframe\">\n  <thead>\n    <tr style=\"text-align: right;\">\n      <th></th>\n      <th>PVMATH</th>\n      <th>PVREAD</th>\n      <th>PVSCIE</th>\n      <th>PVMCCR</th>\n      <th>PVMCQN</th>\n      <th>PVMCSS</th>\n      <th>PVMCUD</th>\n      <th>PVMPEM</th>\n      <th>PVMPFS</th>\n      <th>PVMPIN</th>\n      <th>PVMPRE</th>\n    </tr>\n  </thead>\n  <tbody>\n    <tr>\n      <th>0</th>\n      <td>1</td>\n      <td>546.3877</td>\n      <td>532.9300</td>\n      <td>567.4887</td>\n      <td>582.4041</td>\n      <td>555.0647</td>\n      <td>556.9153</td>\n      <td>556.9614</td>\n      <td>555.5655</td>\n      <td>571.3713</td>\n      <td>614.5495</td>\n    </tr>\n    <tr>\n      <th>1</th>\n      <td>1</td>\n      <td>560.4321</td>\n      <td>506.2942</td>\n      <td>536.8495</td>\n      <td>578.2138</td>\n      <td>576.7185</td>\n      <td>555.7239</td>\n      <td>621.5013</td>\n      <td>551.9805</td>\n      <td>589.7321</td>\n      <td>569.0942</td>\n    </tr>\n    <tr>\n      <th>2</th>\n      <td>1</td>\n      <td>650.7925</td>\n      <td>646.2069</td>\n      <td>678.8159</td>\n      <td>733.7847</td>\n      <td>720.6881</td>\n      <td>703.0225</td>\n      <td>745.3378</td>\n      <td>699.362</td>\n      <td>707.6447</td>\n      <td>723.1284</td>\n    </tr>\n    <tr>\n      <th>3</th>\n      <td>0</td>\n      <td>453.1688</td>\n      <td>367.5244</td>\n      <td>378.9017</td>\n      <td>407.0545</td>\n      <td>474.6111</td>\n      <td>418.6725</td>\n      <td>399.5022</td>\n      <td>397.9351</td>\n      <td>405.7414</td>\n      <td>438.2599</td>\n    </tr>\n    <tr>\n      <th>4</th>\n      <td>1</td>\n      <td>551.8421</td>\n      <td>509.8032</td>\n      <td>580.6639</td>\n      <td>596.6756</td>\n      <td>585.2936</td>\n      <td>583.2789</td>\n      <td>571.0235</td>\n      <td>566.2138</td>\n      <td>595.1984</td>\n      <td>553.8403</td>\n    </tr>\n    <tr>\n      <th>...</th>\n      <td>...</td>\n      <td>...</td>\n      <td>...</td>\n      <td>...</td>\n      <td>...</td>\n      <td>...</td>\n      <td>...</td>\n      <td>...</td>\n      <td>...</td>\n      <td>...</td>\n      <td>...</td>\n    </tr>\n    <tr>\n      <th>5852</th>\n      <td>1</td>\n      <td>576.5285</td>\n      <td>594.7836</td>\n      <td>602.26</td>\n      <td>592.2986</td>\n      <td>578.6207</td>\n      <td>609.3909</td>\n      <td>611.6502</td>\n      <td>607.4982</td>\n      <td>578.3984</td>\n      <td>567.6166</td>\n    </tr>\n    <tr>\n      <th>5853</th>\n      <td>1</td>\n      <td>532.5477</td>\n      <td>475.6030</td>\n      <td>525.1763</td>\n      <td>534.6003</td>\n      <td>564.8438</td>\n      <td>544.344</td>\n      <td>501.102</td>\n      <td>520.5181</td>\n      <td>514.6167</td>\n      <td>528.9199</td>\n    </tr>\n    <tr>\n      <th>5854</th>\n      <td>1</td>\n      <td>541.1986</td>\n      <td>589.8292</td>\n      <td>539.5075</td>\n      <td>577.3314</td>\n      <td>584.8321</td>\n      <td>556.0226</td>\n      <td>602.0464</td>\n      <td>578.3022</td>\n      <td>575.5695</td>\n      <td>553.3003</td>\n    </tr>\n    <tr>\n      <th>5855</th>\n      <td>1</td>\n      <td>512.8787</td>\n      <td>586.2202</td>\n      <td>526.6018</td>\n      <td>569.377</td>\n      <td>571.2576</td>\n      <td>571.6544</td>\n      <td>557.7442</td>\n      <td>491.6458</td>\n      <td>587.0444</td>\n      <td>557.1557</td>\n    </tr>\n    <tr>\n      <th>5856</th>\n      <td>1</td>\n      <td>559.7079</td>\n      <td>570.6131</td>\n      <td>626.2401</td>\n      <td>539.2027</td>\n      <td>563.6279</td>\n      <td>596.4192</td>\n      <td>546.0893</td>\n      <td>618.5003</td>\n      <td>592.585</td>\n      <td>591.7506</td>\n    </tr>\n  </tbody>\n</table>\n<p>5857 rows × 11 columns</p>\n</div>"
     },
     "execution_count": 197,
     "metadata": {},
     "output_type": "execute_result"
    }
   ],
   "source": [
    "sorted_df.reset_index(drop=True, inplace=True)\n",
    "sorted_df\n",
    "# 1464,1464*2,1464*3"
   ],
   "metadata": {
    "collapsed": false,
    "ExecuteTime": {
     "end_time": "2024-03-13T17:52:56.482176Z",
     "start_time": "2024-03-13T17:52:56.470220900Z"
    }
   },
   "id": "56e36b0826cab6b7",
   "execution_count": 197
  },
  {
   "cell_type": "code",
   "outputs": [],
   "source": [
    "import numpy as np\n",
    "def bin_column_avg(dataframe, column_name, num_bins=4):\n",
    "    # 获取数据列\n",
    "    data_column = dataframe[column_name]\n",
    "    \n",
    "    # 计算每个组的平均数量\n",
    "    avg_count = len(data_column) / num_bins\n",
    "    \n",
    "    # 按照平均数量分组\n",
    "    bins = [0] * len(data_column)\n",
    "    sorted_column = sorted(data_column)\n",
    "    for i, val in enumerate(sorted_column):\n",
    "        bins[data_column[data_column == val].index[0]] = int(i // avg_count) + 1\n",
    "    \n",
    "    # 将分组后的数据列替换原来的数据列\n",
    "    dataframe[column_name] = bins\n",
    "    # 计算并返回四分位数的边界值\n",
    "   \n",
    "    return dataframe, quartiles\n"
   ],
   "metadata": {
    "collapsed": false,
    "ExecuteTime": {
     "end_time": "2024-03-13T18:38:33.566138800Z",
     "start_time": "2024-03-13T18:38:33.562237300Z"
    }
   },
   "id": "e97709d415635b5d",
   "execution_count": 206
  },
  {
   "cell_type": "code",
   "outputs": [
    {
     "name": "stdout",
     "output_type": "stream",
     "text": [
      "      PVMATH  PVREAD  PVSCIE  PVMCCR  PVMCQN  PVMCSS  PVMCUD  PVMPEM  PVMPFS  \\\n",
      "0          1       3       3       3       3       3       3       3       3   \n",
      "1          1       3       0       2       3       3       3       4       3   \n",
      "2          1       4       4       4       4       4       4       4       4   \n",
      "3          0       2       2       1       1       2       1       1       1   \n",
      "4          1       3       0       3       3       3       3       3       3   \n",
      "...      ...     ...     ...     ...     ...     ...     ...     ...     ...   \n",
      "5852       1       3       0       3       3       3       3       3       3   \n",
      "5853       1       3       0       2       2       3       3       2       2   \n",
      "5854       1       3       0       2       3       3       3       3       3   \n",
      "5855       1       3       0       2       3       3       3       3       2   \n",
      "5856       1       3       0       4       2       3       3       3       3   \n",
      "\n",
      "      PVMPIN  PVMPRE  \n",
      "0          3       4  \n",
      "1          3       3  \n",
      "2          4       4  \n",
      "3          1       1  \n",
      "4          3       3  \n",
      "...      ...     ...  \n",
      "5852       3       3  \n",
      "5853       2       2  \n",
      "5854       3       3  \n",
      "5855       3       3  \n",
      "5856       3       3  \n",
      "\n",
      "[5857 rows x 11 columns] [1.0, 2.0, 3.0]\n",
      "      PVMATH  PVREAD  PVSCIE  PVMCCR  PVMCQN  PVMCSS  PVMCUD  PVMPEM  PVMPFS  \\\n",
      "0          1       3       3       3       3       3       3       3       3   \n",
      "1          1       3       0       3       3       3       3       4       3   \n",
      "2          1       4       4       4       4       4       4       4       4   \n",
      "3          0       2       2       2       1       2       1       1       1   \n",
      "4          1       3       0       0       3       3       3       3       3   \n",
      "...      ...     ...     ...     ...     ...     ...     ...     ...     ...   \n",
      "5852       1       3       0       0       3       3       3       3       3   \n",
      "5853       1       3       0       0       2       3       3       2       2   \n",
      "5854       1       3       0       0       3       3       3       3       3   \n",
      "5855       1       3       0       0       3       3       3       3       2   \n",
      "5856       1       3       0       0       2       3       3       3       3   \n",
      "\n",
      "      PVMPIN  PVMPRE  \n",
      "0          3       4  \n",
      "1          3       3  \n",
      "2          4       4  \n",
      "3          1       1  \n",
      "4          3       3  \n",
      "...      ...     ...  \n",
      "5852       3       3  \n",
      "5853       2       2  \n",
      "5854       3       3  \n",
      "5855       3       3  \n",
      "5856       3       3  \n",
      "\n",
      "[5857 rows x 11 columns] [1.0, 2.0, 3.0]\n",
      "      PVMATH  PVREAD  PVSCIE  PVMCCR  PVMCQN  PVMCSS  PVMCUD  PVMPEM  PVMPFS  \\\n",
      "0          1       3       3       3       3       3       3       3       3   \n",
      "1          1       0       0       3       3       3       3       4       3   \n",
      "2          1       4       4       4       4       4       4       4       4   \n",
      "3          0       3       2       2       1       2       1       1       1   \n",
      "4          1       0       0       0       3       3       3       3       3   \n",
      "...      ...     ...     ...     ...     ...     ...     ...     ...     ...   \n",
      "5852       1       0       0       0       3       3       3       3       3   \n",
      "5853       1       0       0       0       2       3       3       2       2   \n",
      "5854       1       0       0       0       3       3       3       3       3   \n",
      "5855       1       0       0       0       3       3       3       3       2   \n",
      "5856       1       0       0       0       2       3       3       3       3   \n",
      "\n",
      "      PVMPIN  PVMPRE  \n",
      "0          3       4  \n",
      "1          3       3  \n",
      "2          4       4  \n",
      "3          1       1  \n",
      "4          3       3  \n",
      "...      ...     ...  \n",
      "5852       3       3  \n",
      "5853       2       2  \n",
      "5854       3       3  \n",
      "5855       3       3  \n",
      "5856       3       3  \n",
      "\n",
      "[5857 rows x 11 columns] [1.0, 2.0, 3.0]\n",
      "      PVMATH  PVREAD  PVSCIE  PVMCCR  PVMCQN  PVMCSS  PVMCUD  PVMPEM  PVMPFS  \\\n",
      "0          1       3       3       3       3       3       3       3       3   \n",
      "1          1       0       0       3       0       3       3       4       3   \n",
      "2          1       4       4       4       4       4       4       4       4   \n",
      "3          0       3       2       2       2       2       1       1       1   \n",
      "4          1       0       0       0       0       3       3       3       3   \n",
      "...      ...     ...     ...     ...     ...     ...     ...     ...     ...   \n",
      "5852       1       0       0       0       0       3       3       3       3   \n",
      "5853       1       0       0       0       0       3       3       2       2   \n",
      "5854       1       0       0       0       0       3       3       3       3   \n",
      "5855       1       0       0       0       0       3       3       3       2   \n",
      "5856       1       0       0       0       0       3       3       3       3   \n",
      "\n",
      "      PVMPIN  PVMPRE  \n",
      "0          3       4  \n",
      "1          3       3  \n",
      "2          4       4  \n",
      "3          1       1  \n",
      "4          3       3  \n",
      "...      ...     ...  \n",
      "5852       3       3  \n",
      "5853       2       2  \n",
      "5854       3       3  \n",
      "5855       3       3  \n",
      "5856       3       3  \n",
      "\n",
      "[5857 rows x 11 columns] [1.0, 2.0, 3.0]\n",
      "      PVMATH  PVREAD  PVSCIE  PVMCCR  PVMCQN  PVMCSS  PVMCUD  PVMPEM  PVMPFS  \\\n",
      "0          1       3       3       3       3       4       3       3       3   \n",
      "1          1       0       0       3       0       0       3       4       3   \n",
      "2          1       4       4       4       4       4       4       4       4   \n",
      "3          0       3       2       2       2       3       1       1       1   \n",
      "4          1       0       0       0       0       0       3       3       3   \n",
      "...      ...     ...     ...     ...     ...     ...     ...     ...     ...   \n",
      "5852       1       0       0       0       0       0       3       3       3   \n",
      "5853       1       0       0       0       0       0       3       2       2   \n",
      "5854       1       0       0       0       0       0       3       3       3   \n",
      "5855       1       0       0       0       0       0       3       3       2   \n",
      "5856       1       0       0       0       0       0       3       3       3   \n",
      "\n",
      "      PVMPIN  PVMPRE  \n",
      "0          3       4  \n",
      "1          3       3  \n",
      "2          4       4  \n",
      "3          1       1  \n",
      "4          3       3  \n",
      "...      ...     ...  \n",
      "5852       3       3  \n",
      "5853       2       2  \n",
      "5854       3       3  \n",
      "5855       3       3  \n",
      "5856       3       3  \n",
      "\n",
      "[5857 rows x 11 columns] [1.0, 2.0, 3.0]\n",
      "      PVMATH  PVREAD  PVSCIE  PVMCCR  PVMCQN  PVMCSS  PVMCUD  PVMPEM  PVMPFS  \\\n",
      "0          1       3       3       3       3       4       3       3       3   \n",
      "1          1       0       0       3       0       0       0       4       3   \n",
      "2          1       4       4       4       4       4       4       4       4   \n",
      "3          0       3       2       2       2       3       2       1       1   \n",
      "4          1       0       0       0       0       0       0       3       3   \n",
      "...      ...     ...     ...     ...     ...     ...     ...     ...     ...   \n",
      "5852       1       0       0       0       0       0       0       3       3   \n",
      "5853       1       0       0       0       0       0       0       2       2   \n",
      "5854       1       0       0       0       0       0       0       3       3   \n",
      "5855       1       0       0       0       0       0       0       3       2   \n",
      "5856       1       0       0       0       0       0       0       3       3   \n",
      "\n",
      "      PVMPIN  PVMPRE  \n",
      "0          3       4  \n",
      "1          3       3  \n",
      "2          4       4  \n",
      "3          1       1  \n",
      "4          3       3  \n",
      "...      ...     ...  \n",
      "5852       3       3  \n",
      "5853       2       2  \n",
      "5854       3       3  \n",
      "5855       3       3  \n",
      "5856       3       3  \n",
      "\n",
      "[5857 rows x 11 columns] [1.0, 2.0, 3.0]\n",
      "      PVMATH  PVREAD  PVSCIE  PVMCCR  PVMCQN  PVMCSS  PVMCUD  PVMPEM  PVMPFS  \\\n",
      "0          1       3       3       3       3       4       3       4       3   \n",
      "1          1       0       0       3       0       0       0       4       3   \n",
      "2          1       4       4       4       4       4       4       0       4   \n",
      "3          0       3       2       2       2       3       2       2       1   \n",
      "4          1       0       0       0       0       0       0       0       3   \n",
      "...      ...     ...     ...     ...     ...     ...     ...     ...     ...   \n",
      "5852       1       0       0       0       0       0       0       0       3   \n",
      "5853       1       0       0       0       0       0       0       0       2   \n",
      "5854       1       0       0       0       0       0       0       0       3   \n",
      "5855       1       0       0       0       0       0       0       0       2   \n",
      "5856       1       0       0       0       0       0       0       0       3   \n",
      "\n",
      "      PVMPIN  PVMPRE  \n",
      "0          3       4  \n",
      "1          3       3  \n",
      "2          4       4  \n",
      "3          1       1  \n",
      "4          3       3  \n",
      "...      ...     ...  \n",
      "5852       3       3  \n",
      "5853       2       2  \n",
      "5854       3       3  \n",
      "5855       3       3  \n",
      "5856       3       3  \n",
      "\n",
      "[5857 rows x 11 columns] [1.0, 2.0, 3.0]\n",
      "      PVMATH  PVREAD  PVSCIE  PVMCCR  PVMCQN  PVMCSS  PVMCUD  PVMPEM  PVMPFS  \\\n",
      "0          1       3       3       3       3       4       3       4       4   \n",
      "1          1       0       0       3       0       0       0       4       0   \n",
      "2          1       4       4       4       4       4       4       0       4   \n",
      "3          0       3       2       2       2       3       2       2       2   \n",
      "4          1       0       0       0       0       0       0       0       0   \n",
      "...      ...     ...     ...     ...     ...     ...     ...     ...     ...   \n",
      "5852       1       0       0       0       0       0       0       0       0   \n",
      "5853       1       0       0       0       0       0       0       0       0   \n",
      "5854       1       0       0       0       0       0       0       0       0   \n",
      "5855       1       0       0       0       0       0       0       0       0   \n",
      "5856       1       0       0       0       0       0       0       0       0   \n",
      "\n",
      "      PVMPIN  PVMPRE  \n",
      "0          3       4  \n",
      "1          3       3  \n",
      "2          4       4  \n",
      "3          1       1  \n",
      "4          3       3  \n",
      "...      ...     ...  \n",
      "5852       3       3  \n",
      "5853       2       2  \n",
      "5854       3       3  \n",
      "5855       3       3  \n",
      "5856       3       3  \n",
      "\n",
      "[5857 rows x 11 columns] [1.0, 2.0, 3.0]\n",
      "      PVMATH  PVREAD  PVSCIE  PVMCCR  PVMCQN  PVMCSS  PVMCUD  PVMPEM  PVMPFS  \\\n",
      "0          1       3       3       3       3       4       3       4       4   \n",
      "1          1       0       0       3       0       0       0       4       0   \n",
      "2          1       4       4       4       4       4       4       0       4   \n",
      "3          0       3       2       2       2       3       2       2       2   \n",
      "4          1       0       0       0       0       0       0       0       0   \n",
      "...      ...     ...     ...     ...     ...     ...     ...     ...     ...   \n",
      "5852       1       0       0       0       0       0       0       0       0   \n",
      "5853       1       0       0       0       0       0       0       0       0   \n",
      "5854       1       0       0       0       0       0       0       0       0   \n",
      "5855       1       0       0       0       0       0       0       0       0   \n",
      "5856       1       0       0       0       0       0       0       0       0   \n",
      "\n",
      "      PVMPIN  PVMPRE  \n",
      "0          4       4  \n",
      "1          0       3  \n",
      "2          4       4  \n",
      "3          2       1  \n",
      "4          0       3  \n",
      "...      ...     ...  \n",
      "5852       0       3  \n",
      "5853       0       2  \n",
      "5854       0       3  \n",
      "5855       0       3  \n",
      "5856       0       3  \n",
      "\n",
      "[5857 rows x 11 columns] [1.0, 2.0, 3.0]\n",
      "      PVMATH  PVREAD  PVSCIE  PVMCCR  PVMCQN  PVMCSS  PVMCUD  PVMPEM  PVMPFS  \\\n",
      "0          1       3       3       3       3       4       3       4       4   \n",
      "1          1       0       0       3       0       0       0       4       0   \n",
      "2          1       4       4       4       4       4       4       0       4   \n",
      "3          0       3       2       2       2       3       2       2       2   \n",
      "4          1       0       0       0       0       0       0       0       0   \n",
      "...      ...     ...     ...     ...     ...     ...     ...     ...     ...   \n",
      "5852       1       0       0       0       0       0       0       0       0   \n",
      "5853       1       0       0       0       0       0       0       0       0   \n",
      "5854       1       0       0       0       0       0       0       0       0   \n",
      "5855       1       0       0       0       0       0       0       0       0   \n",
      "5856       1       0       0       0       0       0       0       0       0   \n",
      "\n",
      "      PVMPIN  PVMPRE  \n",
      "0          4       4  \n",
      "1          0       3  \n",
      "2          4       0  \n",
      "3          2       2  \n",
      "4          0       0  \n",
      "...      ...     ...  \n",
      "5852       0       0  \n",
      "5853       0       0  \n",
      "5854       0       0  \n",
      "5855       0       0  \n",
      "5856       0       0  \n",
      "\n",
      "[5857 rows x 11 columns] [1.0, 2.0, 3.0]\n"
     ]
    }
   ],
   "source": [
    "sorted_df, quartiles = bin_column_avg(sorted_df, 'PVSCIE')\n",
    "print(sorted_df, quartiles)\n",
    "sorted_df, quartiles = bin_column_avg(sorted_df, 'PVMCCR')\n",
    "print(sorted_df, quartiles)\n",
    "sorted_df, quartiles = bin_column_avg(sorted_df, 'PVREAD')\n",
    "print(sorted_df, quartiles)\n",
    "sorted_df, quartiles = bin_column_avg(sorted_df, 'PVMCQN')\n",
    "print(sorted_df, quartiles)\n",
    "sorted_df, quartiles = bin_column_avg(sorted_df, 'PVMCSS')\n",
    "print(sorted_df, quartiles)\n",
    "sorted_df, quartiles = bin_column_avg(sorted_df, 'PVMCUD')\n",
    "print(sorted_df, quartiles)\n",
    "sorted_df, quartiles = bin_column_avg(sorted_df, 'PVMPEM')\n",
    "print(sorted_df, quartiles)\n",
    "sorted_df, quartiles = bin_column_avg(sorted_df, 'PVMPFS')\n",
    "print(sorted_df, quartiles)\n",
    "sorted_df, quartiles = bin_column_avg(sorted_df, 'PVMPIN')\n",
    "print(sorted_df, quartiles)\n",
    "sorted_df, quartiles = bin_column_avg(sorted_df, 'PVMPRE')\n",
    "print(sorted_df, quartiles)"
   ],
   "metadata": {
    "collapsed": false,
    "ExecuteTime": {
     "end_time": "2024-03-13T18:39:17.927174700Z",
     "start_time": "2024-03-13T18:39:11.004302100Z"
    }
   },
   "id": "b056709a2c2d83f3",
   "execution_count": 207
  },
  {
   "cell_type": "code",
   "outputs": [],
   "source": [
    "sorted_df.to_csv('df.csv')"
   ],
   "metadata": {
    "collapsed": false,
    "ExecuteTime": {
     "end_time": "2024-03-13T18:01:21.445852100Z",
     "start_time": "2024-03-13T18:01:21.428541800Z"
    }
   },
   "id": "b72031020c7f4fbb",
   "execution_count": 200
  },
  {
   "cell_type": "code",
   "outputs": [],
   "source": [
    "dataframe.loc[:, start_column:end_column].to_csv('origin.csv')"
   ],
   "metadata": {
    "collapsed": false,
    "ExecuteTime": {
     "end_time": "2024-03-13T18:05:22.486247500Z",
     "start_time": "2024-03-13T18:05:22.441484500Z"
    }
   },
   "id": "da8205b64d5d5142",
   "execution_count": 205
  }
 ],
 "metadata": {
  "kernelspec": {
   "display_name": "Python 3",
   "language": "python",
   "name": "python3"
  },
  "language_info": {
   "codemirror_mode": {
    "name": "ipython",
    "version": 2
   },
   "file_extension": ".py",
   "mimetype": "text/x-python",
   "name": "python",
   "nbconvert_exporter": "python",
   "pygments_lexer": "ipython2",
   "version": "2.7.6"
  }
 },
 "nbformat": 4,
 "nbformat_minor": 5
}
